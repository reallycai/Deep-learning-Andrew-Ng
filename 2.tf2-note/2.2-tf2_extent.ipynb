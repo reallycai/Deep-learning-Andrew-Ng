{
 "cells": [
  {
   "cell_type": "markdown",
   "id": "competitive-support",
   "metadata": {},
   "source": [
    "# tf2_拓展\n",
    "\n",
    "## 本讲目标：学会神经网络优化过程，使用正则化减少过拟合，使用优化器更新网络参数\n",
    "### •预备知识\n",
    "### •神经网络复杂度\n",
    "### •指数衰减学习率（略）\n",
    "### •激活函数（略）\n",
    "### •损失函数\n",
    "### •欠拟合与过拟合\n",
    "### •正则化减少过拟合\n",
    "### •优化器更新网络参数"
   ]
  },
  {
   "cell_type": "markdown",
   "id": "deluxe-ministry",
   "metadata": {},
   "source": [
    "# 1、预备知识\n",
    "### （1）条件语句真返回A，条件语句假返回B\n",
    "### tf.where(条件语句，真返回A，假返回B)"
   ]
  },
  {
   "cell_type": "code",
   "execution_count": 1,
   "id": "basic-channel",
   "metadata": {},
   "outputs": [
    {
     "name": "stdout",
     "output_type": "stream",
     "text": [
      "c: tf.Tensor([1 2 3 4 5], shape=(5,), dtype=int32)\n"
     ]
    }
   ],
   "source": [
    "import tensorflow as tf\n",
    "a=tf.constant([1,2,3,1,1])\n",
    "b=tf.constant([0,1,3,4,5])\n",
    "c=tf.where(tf.greater(a,b), a, b) # 若a>b，返回a对应位置的元素，否则返回b对应位置的元素\n",
    "print(\"c:\",c)"
   ]
  },
  {
   "cell_type": "markdown",
   "id": "monetary-bridal",
   "metadata": {},
   "source": [
    "### （2）np.random.RandomState.rand()\n",
    "### 返回一个[0,1)之间的随机数\n",
    "### np.random.RandomState.rand(维度) #维度为空，返回标量"
   ]
  },
  {
   "cell_type": "code",
   "execution_count": 2,
   "id": "sunrise-monthly",
   "metadata": {},
   "outputs": [
    {
     "name": "stdout",
     "output_type": "stream",
     "text": [
      "a: 0.417022004702574\n",
      "b: [[7.20324493e-01 1.14374817e-04 3.02332573e-01]\n",
      " [1.46755891e-01 9.23385948e-02 1.86260211e-01]]\n"
     ]
    }
   ],
   "source": [
    "import numpy as np\n",
    "rdm=np.random.RandomState(seed=1) #seed=常数每次生成随机数相同\n",
    "a=rdm.rand() # 返回一个随机标量\n",
    "b=rdm.rand(2,3) # 返回维度为2行3列随机数矩阵\n",
    "print(\"a:\",a)\n",
    "print(\"b:\",b)"
   ]
  },
  {
   "cell_type": "markdown",
   "id": "reflected-design",
   "metadata": {},
   "source": [
    "### （3）np.vstack()\n",
    "### 将两个数组按垂直方向叠加\n",
    "### np.vstack(数组1，数组2)"
   ]
  },
  {
   "cell_type": "code",
   "execution_count": 3,
   "id": "voluntary-metropolitan",
   "metadata": {},
   "outputs": [
    {
     "name": "stdout",
     "output_type": "stream",
     "text": [
      "c:\n",
      " [[1 2 3]\n",
      " [4 5 6]]\n"
     ]
    }
   ],
   "source": [
    "a = np.array([1,2,3])\n",
    "b = np.array([4,5,6])\n",
    "c = np.vstack((a,b))\n",
    "print(\"c:\\n\",c)"
   ]
  },
  {
   "cell_type": "markdown",
   "id": "positive-framing",
   "metadata": {},
   "source": [
    "### （4）np.mgrid[ ] .ravel( ) np.c_[ ]\n",
    "### ——np.mgrid[ ] 返\n",
    "### np.mgrid[ 起始值: 结束值: 步长，起始值: 结束值: 步长, … ]\n",
    "\n",
    "### ——x.ravel( ) 将x变为一维数组，“把.前变量拉直”\n",
    "\n",
    "### ——np.c_[ ]使返回的间隔数值点配对\n",
    "### np.c_[ 数组1，数组2，… ]"
   ]
  },
  {
   "cell_type": "code",
   "execution_count": 4,
   "id": "random-inquiry",
   "metadata": {},
   "outputs": [
    {
     "name": "stdout",
     "output_type": "stream",
     "text": [
      "x: [[1. 1. 1. 1.]\n",
      " [2. 2. 2. 2.]]\n",
      "y: [[2.  2.5 3.  3.5]\n",
      " [2.  2.5 3.  3.5]]\n",
      "grid:\n",
      " [[1.  2. ]\n",
      " [1.  2.5]\n",
      " [1.  3. ]\n",
      " [1.  3.5]\n",
      " [2.  2. ]\n",
      " [2.  2.5]\n",
      " [2.  3. ]\n",
      " [2.  3.5]]\n"
     ]
    }
   ],
   "source": [
    "x, y = np.mgrid[1:3:1, 2:4:0.5]\n",
    "grid = np.c_[x.ravel(), y.ravel()]\n",
    "print(\"x:\",x)\n",
    "print(\"y:\",y)\n",
    "print('grid:\\n', grid)"
   ]
  },
  {
   "cell_type": "markdown",
   "id": "neutral-employment",
   "metadata": {},
   "source": [
    "# 2、神经网络（NN）复杂度\n",
    "## ——NN复杂度：多用NN层数和NN参数的个数表示\n",
    "\n",
    "## ——空间复杂度：\n",
    "### 层数= 隐藏层的层数+ 1个输出层\n",
    "### 总参数= 总w + 总b\n",
    "\n",
    "## ——时间复杂度：\n",
    "### 乘加运算次数"
   ]
  },
  {
   "cell_type": "markdown",
   "id": "strange-worship",
   "metadata": {},
   "source": [
    "# 3、损失函数\n",
    "### NN优化目标：loss最小\n",
    "### （1）mse (Mean Squared Error)\n",
    "### loss_mse = tf.reduce_mean(tf.square(y_ -y))\n",
    "\n",
    "#### 预测酸奶日销量y，x1、x2是影响日销量的因素。建模前，应预先采集的数据有：每日x1、x2和销量y_（即已知答案，最佳情况：产量=销量）拟造数据集X,Y_：y_ = x1 + x2 噪声：-0.05 ~ +0.05 拟合可以预测销量的函数"
   ]
  },
  {
   "cell_type": "code",
   "execution_count": 5,
   "id": "motivated-monkey",
   "metadata": {},
   "outputs": [
    {
     "name": "stdout",
     "output_type": "stream",
     "text": [
      "After 0 training steps,w1 is \n",
      "[[-0.8096241]\n",
      " [ 1.4855157]] \n",
      "\n",
      "After 10000 training steps,w1 is \n",
      "[[0.9801975]\n",
      " [1.0159837]] \n",
      "\n",
      "Final w1 is:  [[1.0009792]\n",
      " [0.9977485]]\n"
     ]
    }
   ],
   "source": [
    "import tensorflow as tf\n",
    "import numpy as np\n",
    "\n",
    "SEED = 23455\n",
    "\n",
    "rdm = np.random.RandomState(seed=SEED)  # 生成[0,1)之间的随机数\n",
    "x = rdm.rand(32, 2)\n",
    "y_ = [[x1 + x2 + (rdm.rand() / 10.0 - 0.05)] for (x1, x2) in x]  # 生成噪声[0,1)/10=[0,0.1); [0,0.1)-0.05=[-0.05,0.05)\n",
    "x = tf.cast(x, dtype=tf.float32)\n",
    "\n",
    "w1 = tf.Variable(tf.random.normal([2, 1], stddev=1, seed=1))\n",
    "\n",
    "epoch = 15000\n",
    "lr = 0.002\n",
    "\n",
    "for epoch in range(epoch):\n",
    "    with tf.GradientTape() as tape:\n",
    "        y = tf.matmul(x, w1)\n",
    "        loss_mse = tf.reduce_mean(tf.square(y_ - y))\n",
    "\n",
    "    grads = tape.gradient(loss_mse, w1)\n",
    "    w1.assign_sub(lr * grads)\n",
    "\n",
    "    if epoch % 10000 == 0:\n",
    "        print(\"After %d training steps,w1 is \" % (epoch))\n",
    "        print(w1.numpy(), \"\\n\")\n",
    "print(\"Final w1 is: \", w1.numpy())"
   ]
  },
  {
   "cell_type": "markdown",
   "id": "crucial-surname",
   "metadata": {},
   "source": [
    "### （2 ）自定义损失函数\n",
    "### 如预测商品销量，预测多了，损失成本；预测少了，损失利润。\n",
    "### 若利润不等于成本，则mse产生的loss无法利益最大化\n",
    "\n",
    "####  自定义损失函数 酸奶成本1元， 酸奶利润99元。成本很低，利润很高，人们希望多预测些，生成模型系数大于1，往多了预测"
   ]
  },
  {
   "cell_type": "code",
   "execution_count": 6,
   "id": "casual-performance",
   "metadata": {},
   "outputs": [
    {
     "name": "stdout",
     "output_type": "stream",
     "text": [
      "After 0 training steps,w1 is \n",
      "[[2.8786578]\n",
      " [3.2517848]] \n",
      "\n",
      "After 4000 training steps,w1 is \n",
      "[[1.1751455]\n",
      " [1.1323601]] \n",
      "\n",
      "After 8000 training steps,w1 is \n",
      "[[1.1151826]\n",
      " [1.0409834]] \n",
      "\n",
      "Final w1 is:  [[1.1255957]\n",
      " [1.0237043]]\n"
     ]
    }
   ],
   "source": [
    "import tensorflow as tf\n",
    "import numpy as np\n",
    "\n",
    "SEED = 23455\n",
    "COST = 1\n",
    "PROFIT = 99\n",
    "\n",
    "rdm = np.random.RandomState(SEED)\n",
    "x = rdm.rand(32, 2)\n",
    "y_ = [[x1 + x2 + (rdm.rand() / 10.0 - 0.05)] for (x1, x2) in x]  # 生成噪声[0,1)/10=[0,0.1); [0,0.1)-0.05=[-0.05,0.05)\n",
    "x = tf.cast(x, dtype=tf.float32)\n",
    "\n",
    "w1 = tf.Variable(tf.random.normal([2, 1], stddev=1, seed=1))\n",
    "\n",
    "epoch = 10000\n",
    "lr = 0.002\n",
    "\n",
    "for epoch in range(epoch):\n",
    "    with tf.GradientTape() as tape:\n",
    "        y = tf.matmul(x, w1)\n",
    "        loss = tf.reduce_sum(tf.where(tf.greater(y, y_), (y - y_) * COST, (y_ - y) * PROFIT))\n",
    "\n",
    "    grads = tape.gradient(loss, w1)\n",
    "    w1.assign_sub(lr * grads)\n",
    "\n",
    "    if epoch % 4000 == 0:\n",
    "        print(\"After %d training steps,w1 is \" % (epoch))\n",
    "        print(w1.numpy(), \"\\n\")\n",
    "print(\"Final w1 is: \", w1.numpy())\n",
    "\n",
    "# 自定义损失函数\n",
    "# 酸奶成本1元， 酸奶利润99元\n",
    "# 成本很低，利润很高，人们希望多预测些，生成模型系数大于1，往多了预测"
   ]
  },
  {
   "cell_type": "markdown",
   "id": "moral-migration",
   "metadata": {},
   "source": [
    "### （3）交叉熵损失函数CE (Cross Entropy)\n",
    "### 表征两个概率分布之间的距离 tf.losses.categorical_crossentropy(y_，y)"
   ]
  },
  {
   "cell_type": "code",
   "execution_count": 7,
   "id": "outside-checkout",
   "metadata": {},
   "outputs": [
    {
     "name": "stdout",
     "output_type": "stream",
     "text": [
      "loss_ce1: tf.Tensor(0.5108256, shape=(), dtype=float32)\n",
      "loss_ce2: tf.Tensor(0.22314353, shape=(), dtype=float32)\n"
     ]
    }
   ],
   "source": [
    "loss_ce1=tf.losses.categorical_crossentropy([1,0],[0.6,0.4])\n",
    "loss_ce2=tf.losses.categorical_crossentropy([1,0],[0.8,0.2])\n",
    "print(\"loss_ce1:\", loss_ce1)\n",
    "print(\"loss_ce2:\", loss_ce2)"
   ]
  },
  {
   "cell_type": "markdown",
   "id": "advised-stewart",
   "metadata": {},
   "source": [
    "### （4）softmax与交叉熵结合\n",
    "### 输出先过softmax函数，再计算y与y_的交叉熵损失函数。\n",
    "### tf.nn.softmax_cross_entropy_with_logits(y_，y)"
   ]
  },
  {
   "cell_type": "code",
   "execution_count": 8,
   "id": "corresponding-montana",
   "metadata": {},
   "outputs": [
    {
     "name": "stdout",
     "output_type": "stream",
     "text": [
      "分步计算的结果:\n",
      " tf.Tensor(\n",
      "[1.68795487e-04 1.03475622e-03 6.58839038e-02 2.58349207e+00\n",
      " 5.49852354e-02], shape=(5,), dtype=float64)\n",
      "结合计算的结果:\n",
      " tf.Tensor(\n",
      "[1.68795487e-04 1.03475622e-03 6.58839038e-02 2.58349207e+00\n",
      " 5.49852354e-02], shape=(5,), dtype=float64)\n"
     ]
    }
   ],
   "source": [
    "y_ = np.array([[1, 0, 0], [0, 1, 0], [0, 0, 1], [1, 0, 0], [0, 1, 0]])\n",
    "y = np.array([[12, 3, 2], [3, 10, 1], [1, 2, 5], [4, 6.5, 1.2], [3, 6, 1]])\n",
    "y_pro= tf.nn.softmax(y)\n",
    "loss_ce1 = tf.losses.categorical_crossentropy(y_, y_pro)\n",
    "loss_ce2 = tf.nn.softmax_cross_entropy_with_logits(y_, y)\n",
    "print('分步计算的结果:\\n', loss_ce1)\n",
    "print('结合计算的结果:\\n', loss_ce2)"
   ]
  },
  {
   "cell_type": "markdown",
   "id": "artificial-conference",
   "metadata": {},
   "source": [
    "# 4、欠拟合和过拟合"
   ]
  },
  {
   "cell_type": "markdown",
   "id": "hispanic-evans",
   "metadata": {},
   "source": [
    "### ——欠拟合的解决方法：\n",
    "#### 增加输入特征项\n",
    "#### 增加网络参数\n",
    "#### 减少正则化参数\n",
    "\n",
    "### ——过拟合的解决方法：\n",
    "#### 数据清洗\n",
    "#### 增大训练集\n",
    "#### 采用正则化\n",
    "#### 增大正则化参数"
   ]
  },
  {
   "cell_type": "markdown",
   "id": "overall-importance",
   "metadata": {},
   "source": [
    "# 5、正则化缓解过拟合\n",
    "### 正则化在损失函数中引入模型复杂度指标，利用给W加权值，弱化了训练数据的噪声（一般不正则化b）\n",
    "### loss = loss( y与y_ )+ REGULARIZER * loss(w)\n",
    "\n",
    "### 正则化的选择\n",
    "#### L1正则化大概率会使很多参数变为零，因此该方法可通过稀疏参数，即减少参数的数量，降低复杂度。\n",
    "#### L2正则化会使参数很接近零但不为零，因此该方法可通过减小参数值的大小降低复杂度。"
   ]
  },
  {
   "cell_type": "markdown",
   "id": "german-rebound",
   "metadata": {},
   "source": [
    "## （1）未正则化处理"
   ]
  },
  {
   "cell_type": "code",
   "execution_count": 12,
   "id": "southwest-milwaukee",
   "metadata": {},
   "outputs": [
    {
     "name": "stdout",
     "output_type": "stream",
     "text": [
      "epoch: 0 loss: 0.39009323716163635\n",
      "epoch: 100 loss: 0.03267413005232811\n",
      "epoch: 200 loss: 0.028198162093758583\n",
      "epoch: 300 loss: 0.02499411068856716\n",
      "*******predict*******\n"
     ]
    },
    {
     "data": {
      "image/png": "[encoded data removed]",
      "text/plain": [
       "<Figure size 432x288 with 1 Axes>"
      ]
     },
     "metadata": {
      "needs_background": "light"
     },
     "output_type": "display_data"
    }
   ],
   "source": [
    "# 导入所需模块\n",
    "import tensorflow as tf\n",
    "from matplotlib import pyplot as plt\n",
    "import numpy as np\n",
    "import pandas as pd\n",
    "\n",
    "# 读入数据/标签 生成x_train y_train\n",
    "df = pd.read_csv('dot.csv')\n",
    "x_data = np.array(df[['x1', 'x2']])\n",
    "y_data = np.array(df['y_c'])\n",
    "\n",
    "x_train = np.vstack(x_data).reshape(-1,2)\n",
    "y_train = np.vstack(y_data).reshape(-1,1)\n",
    "Y = y_train\n",
    "\n",
    "Y_c = [['red' if y else 'blue'] for y in y_train]\n",
    "\n",
    "# 转换x的数据类型，否则后面矩阵相乘时会因数据类型问题报错\n",
    "x_train = tf.cast(x_train, tf.float32)\n",
    "y_train = tf.cast(y_train, tf.float32)\n",
    "\n",
    "# from_tensor_slices函数切分传入的张量的第一个维度，生成相应的数据集，使输入特征和标签值一一对应\n",
    "train_db = tf.data.Dataset.from_tensor_slices((x_train, y_train)).batch(32)\n",
    "\n",
    "# 生成神经网络的参数，输入层为2个神经元，隐藏层为11个神经元，1层隐藏层，输出层为1个神经元\n",
    "# 用tf.Variable()保证参数可训练\n",
    "w1 = tf.Variable(tf.random.normal([2, 11]), dtype=tf.float32)\n",
    "b1 = tf.Variable(tf.constant(0.01, shape=[11]))\n",
    "\n",
    "w2 = tf.Variable(tf.random.normal([11, 1]), dtype=tf.float32)\n",
    "b2 = tf.Variable(tf.constant(0.01, shape=[1]))\n",
    "\n",
    "lr = 0.01  # 学习率\n",
    "epoch = 400  # 循环轮数\n",
    "\n",
    "# 训练部分\n",
    "for epoch in range(epoch):\n",
    "    for step, (x_train, y_train) in enumerate(train_db):\n",
    "        with tf.GradientTape() as tape:  # 记录梯度信息\n",
    "\n",
    "            h1 = tf.matmul(x_train, w1) + b1  # 记录神经网络乘加运算\n",
    "            h1 = tf.nn.relu(h1)\n",
    "            y = tf.matmul(h1, w2) + b2\n",
    "\n",
    "            # 采用均方误差损失函数mse = mean(sum(y-out)^2)\n",
    "            loss = tf.reduce_mean(tf.square(y_train - y))\n",
    "\n",
    "        # 计算loss对各个参数的梯度\n",
    "        variables = [w1, b1, w2, b2]\n",
    "        grads = tape.gradient(loss, variables)\n",
    "\n",
    "        # 实现梯度更新\n",
    "        # w1 = w1 - lr * w1_grad tape.gradient是自动求导结果与[w1, b1, w2, b2] 索引为0，1，2，3 \n",
    "        w1.assign_sub(lr * grads[0])\n",
    "        b1.assign_sub(lr * grads[1])\n",
    "        w2.assign_sub(lr * grads[2])\n",
    "        b2.assign_sub(lr * grads[3])\n",
    "\n",
    "    # 每20个epoch，打印loss信息\n",
    "    if epoch % 100 == 0:\n",
    "        print('epoch:', epoch, 'loss:', float(loss))\n",
    "\n",
    "        \n",
    "# 预测绘图\n",
    "print(\"*******predict*******\")\n",
    "# xx在-3到3之间以步长为0.01，yy在-3到3之间以步长0.01,生成间隔数值点\n",
    "x_min, x_max = x_data[:, 0].min() - 1, x_data[:, 0].max() + 1\n",
    "y_min, y_max = x_data[:, 1].min() - 1, x_data[:, 1].max() + 1\n",
    "xx, yy = np.mgrid[x_min:x_max:.1, y_min:y_max :.1]\n",
    "# 将xx , yy拉直，并合并配对为二维张量，生成二维坐标点\n",
    "grid = np.c_[xx.ravel(), yy.ravel()]\n",
    "grid = tf.cast(grid, tf.float32)\n",
    "\n",
    "h1 = tf.matmul(grid, w1) + b1\n",
    "h1 = tf.nn.relu(h1)\n",
    "probs = tf.matmul(h1, w2) + b2  # y为预测结果\n",
    "# 取第0列给x1，取第1列给x2\n",
    "x1 = x_data[:, 0]\n",
    "x2 = x_data[:, 1]\n",
    "p = np.zeros((probs.shape[0],1))\n",
    "for i in range(0, probs.shape[0]):\n",
    "        if probs[i,0] > 0.5:\n",
    "            p[i,0] = 1\n",
    "        else:\n",
    "            p[i,0] = 0\n",
    "p = p.reshape(xx.shape)\n",
    "plt.contourf(xx, yy, p, cmap=plt.cm.Spectral)\n",
    "plt.scatter(x1, x2, c= Y, cmap=plt.cm.Spectral) \n",
    "plt.show()"
   ]
  },
  {
   "cell_type": "markdown",
   "id": "devoted-theme",
   "metadata": {},
   "source": [
    "## （2）正则化处理\n",
    "### 只对loss函数做了改变，其余皆不变"
   ]
  },
  {
   "cell_type": "code",
   "execution_count": 13,
   "id": "adequate-mexican",
   "metadata": {},
   "outputs": [
    {
     "name": "stdout",
     "output_type": "stream",
     "text": [
      "epoch: 0 loss: 1.999328374862671\n",
      "epoch: 100 loss: 0.277663916349411\n",
      "epoch: 200 loss: 0.1708734780550003\n",
      "epoch: 300 loss: 0.11429345607757568\n",
      "*******predict*******\n"
     ]
    },
    {
     "data": {
      "image/png": "[encoded data removed]",
      "text/plain": [
       "<Figure size 432x288 with 1 Axes>"
      ]
     },
     "metadata": {
      "needs_background": "light"
     },
     "output_type": "display_data"
    }
   ],
   "source": [
    "# 导入所需模块\n",
    "import tensorflow as tf\n",
    "from matplotlib import pyplot as plt\n",
    "import numpy as np\n",
    "import pandas as pd\n",
    "\n",
    "# 读入数据/标签 生成x_train y_train\n",
    "df = pd.read_csv('dot.csv')\n",
    "x_data = np.array(df[['x1', 'x2']])\n",
    "y_data = np.array(df['y_c'])\n",
    "\n",
    "x_train = x_data\n",
    "y_train = y_data.reshape(-1, 1)\n",
    "Y = y_train\n",
    "\n",
    "Y_c = [['red' if y else 'blue'] for y in y_train]\n",
    "\n",
    "# 转换x的数据类型，否则后面矩阵相乘时会因数据类型问题报错\n",
    "x_train = tf.cast(x_train, tf.float32)\n",
    "y_train = tf.cast(y_train, tf.float32)\n",
    "\n",
    "# from_tensor_slices函数切分传入的张量的第一个维度，生成相应的数据集，使输入特征和标签值一一对应\n",
    "train_db = tf.data.Dataset.from_tensor_slices((x_train, y_train)).batch(32)\n",
    "\n",
    "# 生成神经网络的参数，输入层为4个神经元，隐藏层为32个神经元，2层隐藏层，输出层为3个神经元\n",
    "# 用tf.Variable()保证参数可训练\n",
    "w1 = tf.Variable(tf.random.normal([2, 11]), dtype=tf.float32)\n",
    "b1 = tf.Variable(tf.constant(0.01, shape=[11]))\n",
    "\n",
    "w2 = tf.Variable(tf.random.normal([11, 1]), dtype=tf.float32)\n",
    "b2 = tf.Variable(tf.constant(0.01, shape=[1]))\n",
    "\n",
    "lr = 0.01  # 学习率为\n",
    "epoch = 400  # 循环轮数\n",
    "\n",
    "# 训练部分\n",
    "for epoch in range(epoch):\n",
    "    for step, (x_train, y_train) in enumerate(train_db):\n",
    "        with tf.GradientTape() as tape:  # 记录梯度信息\n",
    "\n",
    "            h1 = tf.matmul(x_train, w1) + b1  # 记录神经网络乘加运算\n",
    "            h1 = tf.nn.relu(h1)\n",
    "            y = tf.matmul(h1, w2) + b2\n",
    "\n",
    "            # 采用均方误差损失函数mse = mean(sum(y-out)^2)\n",
    "            loss_mse = tf.reduce_mean(tf.square(y_train - y))\n",
    "            # 添加l2正则化\n",
    "            loss_regularization = []\n",
    "            # tf.nn.l2_loss(w)=sum(w ** 2) / 2\n",
    "            loss_regularization.append(tf.nn.l2_loss(w1))\n",
    "            loss_regularization.append(tf.nn.l2_loss(w2))\n",
    "            # 求和\n",
    "            # 例：x=tf.constant(([1,1,1],[1,1,1]))\n",
    "            #   tf.reduce_sum(x)\n",
    "            # >>>6\n",
    "            # loss_regularization = tf.reduce_sum(tf.stack(loss_regularization))\n",
    "            loss_regularization = tf.reduce_sum(loss_regularization)\n",
    "            loss = loss_mse + 0.03 * loss_regularization #REGULARIZER = 0.03\n",
    "\n",
    "        # 计算loss对各个参数的梯度\n",
    "        variables = [w1, b1, w2, b2]\n",
    "        grads = tape.gradient(loss, variables)\n",
    "\n",
    "        # 实现梯度更新\n",
    "        # w1 = w1 - lr * w1_grad\n",
    "        w1.assign_sub(lr * grads[0])\n",
    "        b1.assign_sub(lr * grads[1])\n",
    "        w2.assign_sub(lr * grads[2])\n",
    "        b2.assign_sub(lr * grads[3])\n",
    "\n",
    "    # 每200个epoch，打印loss信息\n",
    "    if epoch % 100 == 0:\n",
    "        print('epoch:', epoch, 'loss:', float(loss))\n",
    "\n",
    "# 预测绘图\n",
    "print(\"*******predict*******\")\n",
    "# xx在-3到3之间以步长为0.01，yy在-3到3之间以步长0.01,生成间隔数值点\n",
    "x_min, x_max = x_data[:, 0].min() - 1, x_data[:, 0].max() + 1\n",
    "y_min, y_max = x_data[:, 1].min() - 1, x_data[:, 1].max() + 1\n",
    "xx, yy = np.mgrid[x_min:x_max:.1, y_min:y_max :.1]\n",
    "# 将xx , yy拉直，并合并配对为二维张量，生成二维坐标点\n",
    "grid = np.c_[xx.ravel(), yy.ravel()]\n",
    "grid = tf.cast(grid, tf.float32)\n",
    "\n",
    "h1 = tf.matmul(grid, w1) + b1\n",
    "h1 = tf.nn.relu(h1)\n",
    "probs = tf.matmul(h1, w2) + b2  # y为预测结果\n",
    "# 取第0列给x1，取第1列给x2\n",
    "x1 = x_data[:, 0]\n",
    "x2 = x_data[:, 1]\n",
    "p = np.zeros((probs.shape[0],1))\n",
    "for i in range(0, probs.shape[0]):\n",
    "        if probs[i,0] > 0.5:\n",
    "            p[i,0] = 1\n",
    "        else:\n",
    "            p[i,0] = 0\n",
    "p = p.reshape(xx.shape)\n",
    "plt.contourf(xx, yy, p, cmap=plt.cm.Spectral)\n",
    "plt.scatter(x1, x2, c= Y, cmap=plt.cm.Spectral) \n",
    "plt.show()"
   ]
  },
  {
   "cell_type": "markdown",
   "id": "sunrise-savage",
   "metadata": {},
   "source": [
    "# 6、优化器更新网络参数"
   ]
  },
  {
   "cell_type": "markdown",
   "id": "dressed-butter",
   "metadata": {},
   "source": [
    "### sgd\n",
    "    w1.assign_sub(lr * grads[0])  # 参数w1自更新\n",
    "    b1.assign_sub(lr * grads[1])  # 参数b自更新\n",
    "\n",
    "### sgdm\n",
    "    ###############\n",
    "    m_w, m_b = 0, 0\n",
    "    beta = 0.9\n",
    "    ###############\n",
    "    m_w = beta * m_w + (1 - beta) * grads[0]\n",
    "    m_b = beta * m_b + (1 - beta) * grads[1]\n",
    "\n",
    "    w1.assign_sub(lr * m_w)\n",
    "    b1.assign_sub(lr * m_b)\n",
    "\n",
    "### adagrad\n",
    "    ############\n",
    "    v_w, v_b = 0, 0\n",
    "    ############\n",
    "    v_w += tf.square(grads[0])\n",
    "    v_b += tf.square(grads[1])\n",
    "\n",
    "    w1.assign_sub(lr * grads[0] / tf.sqrt(v_w))\n",
    "    b1.assign_sub(lr * grads[1] / tf.sqrt(v_b))\n",
    "\n",
    "\n",
    "### rmsprop\n",
    "    #############\n",
    "    v_w, v_b = 0, 0\n",
    "    beta = 0.9\n",
    "    ##############\n",
    "    v_w = beta * v_w + (1 - beta) * tf.square(grads[0])\n",
    "    v_b = beta * v_b + (1 - beta) * tf.square(grads[1])\n",
    "\n",
    "    w1.assign_sub(lr * grads[0] / tf.sqrt(v_w))\n",
    "    b1.assign_sub(lr * grads[1] / tf.sqrt(v_b))\n",
    "\n",
    "### adam\n",
    "    ####################\n",
    "    m_w, m_b = 0, 0\n",
    "    v_w, v_b = 0, 0\n",
    "    beta1, beta2 = 0.9, 0.999\n",
    "    delta_w, delta_b = 0, 0\n",
    "    global_step = 0\n",
    "    ####################\n",
    "    m_w = beta1 * m_w + (1 - beta1) * grads[0]\n",
    "    m_b = beta1 * m_b + (1 - beta1) * grads[1]\n",
    "    v_w = beta2 * v_w + (1 - beta2) * tf.square(grads[0])\n",
    "    v_b = beta2 * v_b + (1 - beta2) * tf.square(grads[1])\n",
    "\n",
    "    m_w_correction = m_w / (1 - tf.pow(beta1, int(global_step)))\n",
    "    m_b_correction = m_b / (1 - tf.pow(beta1, int(global_step)))\n",
    "    v_w_correction = v_w / (1 - tf.pow(beta2, int(global_step)))\n",
    "    v_b_correction = v_b / (1 - tf.pow(beta2, int(global_step)))\n",
    "\n",
    "    w1.assign_sub(lr * m_w_correction / tf.sqrt(v_w_correction))\n",
    "    b1.assign_sub(lr * m_b_correction / tf.sqrt(v_b_correction))"
   ]
  },
  {
   "cell_type": "markdown",
   "id": "innovative-oregon",
   "metadata": {},
   "source": [
    "## 首先载入数据\n",
    "### 此部分代码始终不变"
   ]
  },
  {
   "cell_type": "code",
   "execution_count": 14,
   "id": "outside-navigator",
   "metadata": {},
   "outputs": [],
   "source": [
    "# 利用鸢尾花数据集，实现前向传播、反向传播，可视化loss曲线\n",
    "\n",
    "# 导入所需模块\n",
    "import tensorflow as tf\n",
    "from sklearn import datasets\n",
    "from matplotlib import pyplot as plt\n",
    "import numpy as np\n",
    "import time  ##1##\n",
    "\n",
    "# 导入数据，分别为输入特征和标签\n",
    "x_data = datasets.load_iris().data\n",
    "y_data = datasets.load_iris().target\n",
    "\n",
    "# 随机打乱数据（因为原始数据是顺序的，顺序不打乱会影响准确率）\n",
    "# seed: 随机数种子，是一个整数，当设置之后，每次生成的随机数都一样（为方便教学，以保每位同学结果一致）\n",
    "np.random.seed(116)  # 使用相同的seed，保证输入特征和标签一一对应\n",
    "np.random.shuffle(x_data)\n",
    "np.random.seed(116)\n",
    "np.random.shuffle(y_data)\n",
    "tf.random.set_seed(116)\n",
    "\n",
    "# 将打乱后的数据集分割为训练集和测试集，训练集为前120行，测试集为后30行\n",
    "x_train = x_data[:-30]\n",
    "y_train = y_data[:-30]\n",
    "x_test = x_data[-30:]\n",
    "y_test = y_data[-30:]\n",
    "\n",
    "# 转换x的数据类型，否则后面矩阵相乘时会因数据类型不一致报错\n",
    "x_train = tf.cast(x_train, tf.float32)\n",
    "x_test = tf.cast(x_test, tf.float32)\n",
    "\n",
    "# from_tensor_slices函数使输入特征和标签值一一对应。（把数据集分批次，每个批次batch组数据）\n",
    "train_db = tf.data.Dataset.from_tensor_slices((x_train, y_train)).batch(32)\n",
    "test_db = tf.data.Dataset.from_tensor_slices((x_test, y_test)).batch(32)\n",
    "\n",
    "# 生成神经网络的参数，4个输入特征故，输入层为4个输入节点；因为3分类，故输出层为3个神经元\n",
    "# 用tf.Variable()标记参数可训练\n",
    "# 使用seed使每次生成的随机数相同（方便教学，使大家结果都一致，在现实使用时不写seed）\n",
    "w1 = tf.Variable(tf.random.truncated_normal([4, 3], stddev=0.1, seed=1))\n",
    "b1 = tf.Variable(tf.random.truncated_normal([3], stddev=0.1, seed=1))\n",
    "\n",
    "lr = 0.1  # 学习率为0.1\n",
    "train_loss_results = []  # 将每轮的loss记录在此列表中，为后续画loss曲线提供数据\n",
    "test_acc = []  # 将每轮的acc记录在此列表中，为后续画acc曲线提供数据\n",
    "epoch = 500  # 循环500轮\n",
    "loss_all = 0  # 每轮分4个step，loss_all记录四个step生成的4个loss的和\n"
   ]
  },
  {
   "cell_type": "markdown",
   "id": "vanilla-inspiration",
   "metadata": {},
   "source": [
    "## SGD优化"
   ]
  },
  {
   "cell_type": "code",
   "execution_count": 15,
   "id": "relative-community",
   "metadata": {},
   "outputs": [
    {
     "name": "stdout",
     "output_type": "stream",
     "text": [
      "Epoch 0, loss: 0.2821310982108116\n",
      "Test_acc: 0.16666666666666666\n",
      "--------------------------\n",
      "Epoch 100, loss: 0.06943229492753744\n",
      "Test_acc: 0.8666666666666667\n",
      "--------------------------\n",
      "Epoch 200, loss: 0.049290805123746395\n",
      "Test_acc: 1.0\n",
      "--------------------------\n",
      "Epoch 300, loss: 0.04036971088498831\n",
      "Test_acc: 1.0\n",
      "--------------------------\n",
      "Epoch 400, loss: 0.03542578825727105\n",
      "Test_acc: 1.0\n",
      "--------------------------\n",
      "total_time 5.272507190704346\n"
     ]
    },
    {
     "data": {
      "image/png": "[encoded data removed]",
      "text/plain": [
       "<Figure size 432x288 with 1 Axes>"
      ]
     },
     "metadata": {
      "needs_background": "light"
     },
     "output_type": "display_data"
    },
    {
     "data": {
      "image/png": "[encoded data removed]",
      "text/plain": [
       "<Figure size 432x288 with 1 Axes>"
      ]
     },
     "metadata": {
      "needs_background": "light"
     },
     "output_type": "display_data"
    }
   ],
   "source": [
    "# 训练部分\n",
    "now_time = time.time()  ##2##\n",
    "for epoch in range(epoch):  # 数据集级别的循环，每个epoch循环一次数据集\n",
    "    for step, (x_train, y_train) in enumerate(train_db):  # batch级别的循环 ，每个step循环一个batch\n",
    "        with tf.GradientTape() as tape:  # with结构记录梯度信息\n",
    "            y = tf.matmul(x_train, w1) + b1  # 神经网络乘加运算\n",
    "            y = tf.nn.softmax(y)  # 使输出y符合概率分布（此操作后与独热码同量级，可相减求loss）\n",
    "            y_ = tf.one_hot(y_train, depth=3)  # 将标签值转换为独热码格式，方便计算loss和accuracy\n",
    "            loss = tf.reduce_mean(tf.square(y_ - y))  # 采用均方误差损失函数mse = mean(sum(y-out)^2)\n",
    "            loss_all += loss.numpy()  # 将每个step计算出的loss累加，为后续求loss平均值提供数据，这样计算的loss更准确\n",
    "        # 计算loss对各个参数的梯度\n",
    "        grads = tape.gradient(loss, [w1, b1])\n",
    "\n",
    "        # 实现梯度更新 w1 = w1 - lr * w1_grad    b = b - lr * b_grad\n",
    "        w1.assign_sub(lr * grads[0])  # 参数w1自更新\n",
    "        b1.assign_sub(lr * grads[1])  # 参数b自更新\n",
    "\n",
    "    # 每个epoch，打印loss信息\n",
    "    if epoch % 100 == 0:\n",
    "        print(\"Epoch {}, loss: {}\".format(epoch, loss_all / 4))\n",
    "    train_loss_results.append(loss_all / 4)  # 将4个step的loss求平均记录在此变量中\n",
    "    loss_all = 0  # loss_all归零，为记录下一个epoch的loss做准备\n",
    "\n",
    "    # 测试部分\n",
    "    # total_correct为预测对的样本个数, total_number为测试的总样本数，将这两个变量都初始化为0\n",
    "    total_correct, total_number = 0, 0\n",
    "   \n",
    "    y = tf.matmul(x_test, w1) + b1\n",
    "    y = tf.nn.softmax(y)\n",
    "    pred = tf.argmax(y, axis=1)  # 返回y中最大值的索引，即预测的分类\n",
    "    # 将pred转换为y_test的数据类型\n",
    "    pred = tf.cast(pred, dtype=y_test.dtype)\n",
    "    # 若分类正确，则correct=1，否则为0，将bool型的结果转换为int型\n",
    "    correct = tf.cast(tf.equal(pred, y_test), dtype=tf.int32)\n",
    "    # 将每个batch的correct数加起来\n",
    "    correct = tf.reduce_sum(correct)\n",
    "    # 将所有batch中的correct数加起来\n",
    "    total_correct = int(correct)\n",
    "    # total_number为测试的总样本数，也就是x_test的行数，shape[0]返回变量的行数\n",
    "    total_number = x_test.shape[0]\n",
    "    # 总的准确率等于total_correct/total_number\n",
    "    acc = total_correct / total_number\n",
    "    test_acc.append(acc)\n",
    "    if epoch % 100 == 0:\n",
    "        print(\"Test_acc:\", acc)\n",
    "        print(\"--------------------------\")\n",
    "total_time = time.time() - now_time  ##3##\n",
    "print(\"total_time\", total_time)  ##4##\n",
    "\n",
    "# 绘制 loss 曲线\n",
    "plt.title('Loss Function Curve')  # 图片标题\n",
    "plt.xlabel('Epoch')  # x轴变量名称\n",
    "plt.ylabel('Loss')  # y轴变量名称\n",
    "plt.plot(train_loss_results, label=\"$Loss$\")  # 逐点画出trian_loss_results值并连线，连线图标是Loss\n",
    "plt.legend()  # 画出曲线图标\n",
    "plt.show()  # 画出图像\n",
    "\n",
    "# 绘制 Accuracy 曲线\n",
    "plt.title('Acc Curve')  # 图片标题\n",
    "plt.xlabel('Epoch')  # x轴变量名称\n",
    "plt.ylabel('Acc')  # y轴变量名称\n",
    "plt.plot(test_acc, label=\"$Accuracy$\")  # 逐点画出test_acc值并连线，连线图标是Accuracy\n",
    "plt.legend()\n",
    "plt.show()"
   ]
  },
  {
   "cell_type": "markdown",
   "id": "remarkable-hearts",
   "metadata": {},
   "source": [
    "### SDGM"
   ]
  },
  {
   "cell_type": "code",
   "execution_count": 16,
   "id": "announced-celebrity",
   "metadata": {},
   "outputs": [
    {
     "name": "stdout",
     "output_type": "stream",
     "text": [
      "Epoch 0, loss: 0.2961867228150368\n",
      "Test_acc: 0.16666666666666666\n",
      "--------------------------\n",
      "Epoch 100, loss: 0.06580190174281597\n",
      "Test_acc: 0.9666666666666667\n",
      "--------------------------\n",
      "Epoch 200, loss: 0.0467837443575263\n",
      "Test_acc: 1.0\n",
      "--------------------------\n",
      "Epoch 300, loss: 0.03832796635106206\n",
      "Test_acc: 1.0\n",
      "--------------------------\n",
      "Epoch 400, loss: 0.033616107888519764\n",
      "Test_acc: 1.0\n",
      "--------------------------\n",
      "total_time 6.250306606292725\n"
     ]
    },
    {
     "data": {
      "image/png": "[encoded data removed]",
      "text/plain": [
       "<Figure size 432x288 with 1 Axes>"
      ]
     },
     "metadata": {
      "needs_background": "light"
     },
     "output_type": "display_data"
    },
    {
     "data": {
      "image/png": "[encoded data removed]",
      "text/plain": [
       "<Figure size 432x288 with 1 Axes>"
      ]
     },
     "metadata": {
      "needs_background": "light"
     },
     "output_type": "display_data"
    }
   ],
   "source": [
    "# 导入数据，分别为输入特征和标签\n",
    "x_data = datasets.load_iris().data\n",
    "y_data = datasets.load_iris().target\n",
    "\n",
    "# 随机打乱数据（因为原始数据是顺序的，顺序不打乱会影响准确率）\n",
    "# seed: 随机数种子，是一个整数，当设置之后，每次生成的随机数都一样（为方便教学，以保每位同学结果一致）\n",
    "np.random.seed(116)  # 使用相同的seed，保证输入特征和标签一一对应\n",
    "np.random.shuffle(x_data)\n",
    "np.random.seed(116)\n",
    "np.random.shuffle(y_data)\n",
    "tf.random.set_seed(116)\n",
    "\n",
    "# 将打乱后的数据集分割为训练集和测试集，训练集为前120行，测试集为后30行\n",
    "x_train = x_data[:-30]\n",
    "y_train = y_data[:-30]\n",
    "x_test = x_data[-30:]\n",
    "y_test = y_data[-30:]\n",
    "\n",
    "# 转换x的数据类型，否则后面矩阵相乘时会因数据类型不一致报错\n",
    "x_train = tf.cast(x_train, tf.float32)\n",
    "x_test = tf.cast(x_test, tf.float32)\n",
    "\n",
    "# from_tensor_slices函数使输入特征和标签值一一对应。（把数据集分批次，每个批次batch组数据）\n",
    "train_db = tf.data.Dataset.from_tensor_slices((x_train, y_train)).batch(32)\n",
    "test_db = tf.data.Dataset.from_tensor_slices((x_test, y_test)).batch(32)\n",
    "\n",
    "# 生成神经网络的参数，4个输入特征故，输入层为4个输入节点；因为3分类，故输出层为3个神经元\n",
    "# 用tf.Variable()标记参数可训练\n",
    "# 使用seed使每次生成的随机数相同（方便教学，使大家结果都一致，在现实使用时不写seed）\n",
    "w1 = tf.Variable(tf.random.truncated_normal([4, 3], stddev=0.1, seed=1))\n",
    "b1 = tf.Variable(tf.random.truncated_normal([3], stddev=0.1, seed=1))\n",
    "\n",
    "lr = 0.1  # 学习率为0.1\n",
    "train_loss_results = []  # 将每轮的loss记录在此列表中，为后续画loss曲线提供数据\n",
    "test_acc = []  # 将每轮的acc记录在此列表中，为后续画acc曲线提供数据\n",
    "epoch = 500  # 循环500轮\n",
    "loss_all = 0  # 每轮分4个step，loss_all记录四个step生成的4个loss的和\n",
    "##################################################\n",
    "m_w, m_b = 0, 0\n",
    "beta = 0.9\n",
    "##################################################\n",
    "# 训练部分\n",
    "now_time = time.time()  ##2##\n",
    "for epoch in range(epoch):  # 数据集级别的循环，每个epoch循环一次数据集\n",
    "    for step, (x_train, y_train) in enumerate(train_db):  # batch级别的循环 ，每个step循环一个batch\n",
    "        with tf.GradientTape() as tape:  # with结构记录梯度信息\n",
    "            y = tf.matmul(x_train, w1) + b1  # 神经网络乘加运算\n",
    "            y = tf.nn.softmax(y)  # 使输出y符合概率分布（此操作后与独热码同量级，可相减求loss）\n",
    "            y_ = tf.one_hot(y_train, depth=3)  # 将标签值转换为独热码格式，方便计算loss和accuracy\n",
    "            loss = tf.reduce_mean(tf.square(y_ - y))  # 采用均方误差损失函数mse = mean(sum(y-out)^2)\n",
    "            loss_all += loss.numpy()  # 将每个step计算出的loss累加，为后续求loss平均值提供数据，这样计算的loss更准确\n",
    "        # 计算loss对各个参数的梯度\n",
    "        grads = tape.gradient(loss, [w1, b1])\n",
    "\n",
    "        ##########################################################################\n",
    "        # sgd-momentun  \n",
    "        m_w = beta * m_w + (1 - beta) * grads[0]\n",
    "        m_b = beta * m_b + (1 - beta) * grads[1]\n",
    "        w1.assign_sub(lr * m_w)\n",
    "        b1.assign_sub(lr * m_b)\n",
    "    ##########################################################################\n",
    "\n",
    "    # 每个epoch，打印loss信息\n",
    "    if epoch % 100 == 0:\n",
    "        print(\"Epoch {}, loss: {}\".format(epoch, loss_all / 4))\n",
    "    train_loss_results.append(loss_all / 4)  # 将4个step的loss求平均记录在此变量中\n",
    "    loss_all = 0  # loss_all归零，为记录下一个epoch的loss做准备\n",
    "\n",
    "    # 测试部分\n",
    "    # total_correct为预测对的样本个数, total_number为测试的总样本数，将这两个变量都初始化为0\n",
    "    total_correct, total_number = 0, 0\n",
    "\n",
    "    # 使用更新后的参数进行预测\n",
    "    y = tf.matmul(x_test, w1) + b1\n",
    "    y = tf.nn.softmax(y)\n",
    "    pred = tf.argmax(y, axis=1)  # 返回y中最大值的索引，即预测的分类\n",
    "    # 将pred转换为y_test的数据类型\n",
    "    pred = tf.cast(pred, dtype=y_test.dtype)\n",
    "    # 若分类正确，则correct=1，否则为0，将bool型的结果转换为int型\n",
    "    correct = tf.cast(tf.equal(pred, y_test), dtype=tf.int32)\n",
    "    # 将每个batch的correct数加起来\n",
    "    correct = tf.reduce_sum(correct)\n",
    "    # 将所有batch中的correct数加起来\n",
    "    total_correct = int(correct)\n",
    "    # total_number为测试的总样本数，也就是x_test的行数，shape[0]返回变量的行数\n",
    "    total_number = x_test.shape[0]\n",
    "    # 总的准确率等于total_correct/total_number\n",
    "    acc = total_correct / total_number\n",
    "    test_acc.append(acc)\n",
    "    if epoch % 100 == 0:\n",
    "        print(\"Test_acc:\", acc)\n",
    "        print(\"--------------------------\")\n",
    "total_time = time.time() - now_time  ##3##\n",
    "print(\"total_time\", total_time)  ##4##\n",
    "\n",
    "# 绘制 loss 曲线\n",
    "plt.title('Loss Function Curve')  # 图片标题\n",
    "plt.xlabel('Epoch')  # x轴变量名称\n",
    "plt.ylabel('Loss')  # y轴变量名称\n",
    "plt.plot(train_loss_results, label=\"$Loss$\")  # 逐点画出trian_loss_results值并连线，连线图标是Loss\n",
    "plt.legend()  # 画出曲线图标\n",
    "plt.show()  # 画出图像\n",
    "\n",
    "# 绘制 Accuracy 曲线\n",
    "plt.title('Acc Curve')  # 图片标题\n",
    "plt.xlabel('Epoch')  # x轴变量名称\n",
    "plt.ylabel('Acc')  # y轴变量名称\n",
    "plt.plot(test_acc, label=\"$Accuracy$\")  # 逐点画出test_acc值并连线，连线图标是Accuracy\n",
    "plt.legend()\n",
    "plt.show()\n"
   ]
  },
  {
   "cell_type": "markdown",
   "id": "deadly-vision",
   "metadata": {},
   "source": [
    "### Adagrad"
   ]
  },
  {
   "cell_type": "code",
   "execution_count": 17,
   "id": "swiss-coalition",
   "metadata": {},
   "outputs": [
    {
     "name": "stdout",
     "output_type": "stream",
     "text": [
      "Epoch 0, loss: 0.2528788633644581\n",
      "Test_acc: 0.5333333333333333\n",
      "--------------------------\n",
      "Epoch 100, loss: 0.05753319896757603\n",
      "Test_acc: 1.0\n",
      "--------------------------\n",
      "Epoch 200, loss: 0.04407376889139414\n",
      "Test_acc: 1.0\n",
      "--------------------------\n",
      "Epoch 300, loss: 0.03786272555589676\n",
      "Test_acc: 1.0\n",
      "--------------------------\n",
      "Epoch 400, loss: 0.03418843587860465\n",
      "Test_acc: 1.0\n",
      "--------------------------\n",
      "total_time 7.425151586532593\n"
     ]
    },
    {
     "data": {
      "image/png": "[encoded data removed]",
      "text/plain": [
       "<Figure size 432x288 with 1 Axes>"
      ]
     },
     "metadata": {
      "needs_background": "light"
     },
     "output_type": "display_data"
    },
    {
     "data": {
      "image/png": "[encoded data removed]",
      "text/plain": [
       "<Figure size 432x288 with 1 Axes>"
      ]
     },
     "metadata": {
      "needs_background": "light"
     },
     "output_type": "display_data"
    }
   ],
   "source": [
    "# 导入数据，分别为输入特征和标签\n",
    "x_data = datasets.load_iris().data\n",
    "y_data = datasets.load_iris().target\n",
    "\n",
    "# 随机打乱数据（因为原始数据是顺序的，顺序不打乱会影响准确率）\n",
    "# seed: 随机数种子，是一个整数，当设置之后，每次生成的随机数都一样（为方便教学，以保每位同学结果一致）\n",
    "np.random.seed(116)  # 使用相同的seed，保证输入特征和标签一一对应\n",
    "np.random.shuffle(x_data)\n",
    "np.random.seed(116)\n",
    "np.random.shuffle(y_data)\n",
    "tf.random.set_seed(116)\n",
    "\n",
    "# 将打乱后的数据集分割为训练集和测试集，训练集为前120行，测试集为后30行\n",
    "x_train = x_data[:-30]\n",
    "y_train = y_data[:-30]\n",
    "x_test = x_data[-30:]\n",
    "y_test = y_data[-30:]\n",
    "\n",
    "# 转换x的数据类型，否则后面矩阵相乘时会因数据类型不一致报错\n",
    "x_train = tf.cast(x_train, tf.float32)\n",
    "x_test = tf.cast(x_test, tf.float32)\n",
    "\n",
    "# from_tensor_slices函数使输入特征和标签值一一对应。（把数据集分批次，每个批次batch组数据）\n",
    "train_db = tf.data.Dataset.from_tensor_slices((x_train, y_train)).batch(32)\n",
    "test_db = tf.data.Dataset.from_tensor_slices((x_test, y_test)).batch(32)\n",
    "\n",
    "# 生成神经网络的参数，4个输入特征故，输入层为4个输入节点；因为3分类，故输出层为3个神经元\n",
    "# 用tf.Variable()标记参数可训练\n",
    "# 使用seed使每次生成的随机数相同（方便教学，使大家结果都一致，在现实使用时不写seed）\n",
    "w1 = tf.Variable(tf.random.truncated_normal([4, 3], stddev=0.1, seed=1))\n",
    "b1 = tf.Variable(tf.random.truncated_normal([3], stddev=0.1, seed=1))\n",
    "\n",
    "lr = 0.1  # 学习率为0.1\n",
    "train_loss_results = []  # 将每轮的loss记录在此列表中，为后续画loss曲线提供数据\n",
    "test_acc = []  # 将每轮的acc记录在此列表中，为后续画acc曲线提供数据\n",
    "epoch = 500  # 循环500轮\n",
    "loss_all = 0  # 每轮分4个step，loss_all记录四个step生成的4个loss的和\n",
    "##########################################################################\n",
    "v_w, v_b = 0, 0\n",
    "##########################################################################\n",
    "\n",
    "# 训练部分\n",
    "now_time = time.time()  ##2##\n",
    "for epoch in range(epoch):  # 数据集级别的循环，每个epoch循环一次数据集\n",
    "    for step, (x_train, y_train) in enumerate(train_db):  # batch级别的循环 ，每个step循环一个batch\n",
    "        with tf.GradientTape() as tape:  # with结构记录梯度信息\n",
    "            y = tf.matmul(x_train, w1) + b1  # 神经网络乘加运算\n",
    "            y = tf.nn.softmax(y)  # 使输出y符合概率分布（此操作后与独热码同量级，可相减求loss）\n",
    "            y_ = tf.one_hot(y_train, depth=3)  # 将标签值转换为独热码格式，方便计算loss和accuracy\n",
    "            loss = tf.reduce_mean(tf.square(y_ - y))  # 采用均方误差损失函数mse = mean(sum(y-out)^2)\n",
    "            loss_all += loss.numpy()  # 将每个step计算出的loss累加，为后续求loss平均值提供数据，这样计算的loss更准确\n",
    "        # 计算loss对各个参数的梯度\n",
    "        grads = tape.gradient(loss, [w1, b1])\n",
    "\n",
    "        ##########################################################################\n",
    "        # adagrad\n",
    "        v_w += tf.square(grads[0])\n",
    "        v_b += tf.square(grads[1])\n",
    "        w1.assign_sub(lr * grads[0] / tf.sqrt(v_w))\n",
    "        b1.assign_sub(lr * grads[1] / tf.sqrt(v_b))\n",
    "    ##########################################################################\n",
    "\n",
    "    # 每个epoch，打印loss信息\n",
    "    if epoch % 100 == 0:\n",
    "        print(\"Epoch {}, loss: {}\".format(epoch, loss_all / 4))\n",
    "    train_loss_results.append(loss_all / 4)  # 将4个step的loss求平均记录在此变量中\n",
    "    loss_all = 0  # loss_all归零，为记录下一个epoch的loss做准备\n",
    "\n",
    "    # 测试部分\n",
    "    # total_correct为预测对的样本个数, total_number为测试的总样本数，将这两个变量都初始化为0\n",
    "    total_correct, total_number = 0, 0\n",
    "\n",
    "    # 使用更新后的参数进行预测\n",
    "    y = tf.matmul(x_test, w1) + b1\n",
    "    y = tf.nn.softmax(y)\n",
    "    pred = tf.argmax(y, axis=1)  # 返回y中最大值的索引，即预测的分类\n",
    "    # 将pred转换为y_test的数据类型\n",
    "    pred = tf.cast(pred, dtype=y_test.dtype)\n",
    "    # 若分类正确，则correct=1，否则为0，将bool型的结果转换为int型\n",
    "    correct = tf.cast(tf.equal(pred, y_test), dtype=tf.int32)\n",
    "    # 将每个batch的correct数加起来\n",
    "    correct = tf.reduce_sum(correct)\n",
    "    # 将所有batch中的correct数加起来\n",
    "    total_correct = int(correct)\n",
    "    # total_number为测试的总样本数，也就是x_test的行数，shape[0]返回变量的行数\n",
    "    total_number = x_test.shape[0]\n",
    "    # 总的准确率等于total_correct/total_number\n",
    "    acc = total_correct / total_number\n",
    "    test_acc.append(acc)\n",
    "    if epoch % 100 == 0:\n",
    "        print(\"Test_acc:\", acc)\n",
    "        print(\"--------------------------\")\n",
    "total_time = time.time() - now_time  ##3##\n",
    "print(\"total_time\", total_time)  ##4##\n",
    "\n",
    "# 绘制 loss 曲线\n",
    "plt.title('Loss Function Curve')  # 图片标题\n",
    "plt.xlabel('Epoch')  # x轴变量名称\n",
    "plt.ylabel('Loss')  # y轴变量名称\n",
    "plt.plot(train_loss_results, label=\"$Loss$\")  # 逐点画出trian_loss_results值并连线，连线图标是Loss\n",
    "plt.legend()  # 画出曲线图标\n",
    "plt.show()  # 画出图像\n",
    "\n",
    "# 绘制 Accuracy 曲线\n",
    "plt.title('Acc Curve')  # 图片标题\n",
    "plt.xlabel('Epoch')  # x轴变量名称\n",
    "plt.ylabel('Acc')  # y轴变量名称\n",
    "plt.plot(test_acc, label=\"$Accuracy$\")  # 逐点画出test_acc值并连线，连线图标是Accuracy\n",
    "plt.legend()\n",
    "plt.show()"
   ]
  },
  {
   "cell_type": "markdown",
   "id": "parliamentary-clock",
   "metadata": {},
   "source": [
    "### rmsprop"
   ]
  },
  {
   "cell_type": "code",
   "execution_count": 18,
   "id": "dynamic-guidance",
   "metadata": {},
   "outputs": [
    {
     "name": "stdout",
     "output_type": "stream",
     "text": [
      "Epoch 0, loss: 0.3926014229655266\n",
      "Test_acc: 0.16666666666666666\n",
      "--------------------------\n",
      "Epoch 100, loss: 0.04112491477280855\n",
      "Test_acc: 1.0\n",
      "--------------------------\n",
      "Epoch 200, loss: 0.02897816471522674\n",
      "Test_acc: 1.0\n",
      "--------------------------\n",
      "Epoch 300, loss: 0.02874010434607044\n",
      "Test_acc: 1.0\n",
      "--------------------------\n",
      "Epoch 400, loss: nan\n",
      "Test_acc: 0.36666666666666664\n",
      "--------------------------\n",
      "total_time 8.308799743652344\n"
     ]
    },
    {
     "data": {
      "image/png": "[encoded data removed]",
      "text/plain": [
       "<Figure size 432x288 with 1 Axes>"
      ]
     },
     "metadata": {
      "needs_background": "light"
     },
     "output_type": "display_data"
    },
    {
     "data": {
      "image/png": "[encoded data removed]",
      "text/plain": [
       "<Figure size 432x288 with 1 Axes>"
      ]
     },
     "metadata": {
      "needs_background": "light"
     },
     "output_type": "display_data"
    }
   ],
   "source": [
    "# 导入数据，分别为输入特征和标签\n",
    "x_data = datasets.load_iris().data\n",
    "y_data = datasets.load_iris().target\n",
    "\n",
    "# 随机打乱数据（因为原始数据是顺序的，顺序不打乱会影响准确率）\n",
    "# seed: 随机数种子，是一个整数，当设置之后，每次生成的随机数都一样（为方便教学，以保每位同学结果一致）\n",
    "np.random.seed(116)  # 使用相同的seed，保证输入特征和标签一一对应\n",
    "np.random.shuffle(x_data)\n",
    "np.random.seed(116)\n",
    "np.random.shuffle(y_data)\n",
    "tf.random.set_seed(116)\n",
    "\n",
    "# 将打乱后的数据集分割为训练集和测试集，训练集为前120行，测试集为后30行\n",
    "x_train = x_data[:-30]\n",
    "y_train = y_data[:-30]\n",
    "x_test = x_data[-30:]\n",
    "y_test = y_data[-30:]\n",
    "\n",
    "# 转换x的数据类型，否则后面矩阵相乘时会因数据类型不一致报错\n",
    "x_train = tf.cast(x_train, tf.float32)\n",
    "x_test = tf.cast(x_test, tf.float32)\n",
    "\n",
    "# from_tensor_slices函数使输入特征和标签值一一对应。（把数据集分批次，每个批次batch组数据）\n",
    "train_db = tf.data.Dataset.from_tensor_slices((x_train, y_train)).batch(32)\n",
    "test_db = tf.data.Dataset.from_tensor_slices((x_test, y_test)).batch(32)\n",
    "\n",
    "# 生成神经网络的参数，4个输入特征故，输入层为4个输入节点；因为3分类，故输出层为3个神经元\n",
    "# 用tf.Variable()标记参数可训练\n",
    "# 使用seed使每次生成的随机数相同（方便教学，使大家结果都一致，在现实使用时不写seed）\n",
    "w1 = tf.Variable(tf.random.truncated_normal([4, 3], stddev=0.1, seed=1))\n",
    "b1 = tf.Variable(tf.random.truncated_normal([3], stddev=0.1, seed=1))\n",
    "\n",
    "lr = 0.1  # 学习率为0.1\n",
    "train_loss_results = []  # 将每轮的loss记录在此列表中，为后续画loss曲线提供数据\n",
    "test_acc = []  # 将每轮的acc记录在此列表中，为后续画acc曲线提供数据\n",
    "epoch = 500  # 循环500轮\n",
    "loss_all = 0  # 每轮分4个step，loss_all记录四个step生成的4个loss的和\n",
    "##########################################################################\n",
    "v_w, v_b = 0, 0\n",
    "beta = 0.9\n",
    "##########################################################################\n",
    "\n",
    "# 训练部分\n",
    "now_time = time.time()  ##2##\n",
    "for epoch in range(epoch):  # 数据集级别的循环，每个epoch循环一次数据集\n",
    "    for step, (x_train, y_train) in enumerate(train_db):  # batch级别的循环 ，每个step循环一个batch\n",
    "        with tf.GradientTape() as tape:  # with结构记录梯度信息\n",
    "            y = tf.matmul(x_train, w1) + b1  # 神经网络乘加运算\n",
    "            y = tf.nn.softmax(y)  # 使输出y符合概率分布（此操作后与独热码同量级，可相减求loss）\n",
    "            y_ = tf.one_hot(y_train, depth=3)  # 将标签值转换为独热码格式，方便计算loss和accuracy\n",
    "            loss = tf.reduce_mean(tf.square(y_ - y))  # 采用均方误差损失函数mse = mean(sum(y-out)^2)\n",
    "            loss_all += loss.numpy()  # 将每个step计算出的loss累加，为后续求loss平均值提供数据，这样计算的loss更准确\n",
    "        # 计算loss对各个参数的梯度\n",
    "        grads = tape.gradient(loss, [w1, b1])\n",
    "\n",
    "        ##########################################################################\n",
    "        # rmsprop\n",
    "        v_w = beta * v_w + (1 - beta) * tf.square(grads[0])\n",
    "        v_b = beta * v_b + (1 - beta) * tf.square(grads[1])\n",
    "        w1.assign_sub(lr * grads[0] / tf.sqrt(v_w))\n",
    "        b1.assign_sub(lr * grads[1] / tf.sqrt(v_b))\n",
    "    ##########################################################################\n",
    "\n",
    "    # 每个epoch，打印loss信息\n",
    "    if epoch % 100 == 0:\n",
    "        print(\"Epoch {}, loss: {}\".format(epoch, loss_all / 4))\n",
    "    train_loss_results.append(loss_all / 4)  # 将4个step的loss求平均记录在此变量中\n",
    "    loss_all = 0  # loss_all归零，为记录下一个epoch的loss做准备\n",
    "\n",
    "    # 测试部分\n",
    "    # total_correct为预测对的样本个数, total_number为测试的总样本数，将这两个变量都初始化为0\n",
    "    total_correct, total_number = 0, 0\n",
    "    for x_test, y_test in test_db:\n",
    "        # 使用更新后的参数进行预测\n",
    "        y = tf.matmul(x_test, w1) + b1\n",
    "        y = tf.nn.softmax(y)\n",
    "        pred = tf.argmax(y, axis=1)  # 返回y中最大值的索引，即预测的分类\n",
    "        # 将pred转换为y_test的数据类型\n",
    "        pred = tf.cast(pred, dtype=y_test.dtype)\n",
    "        # 若分类正确，则correct=1，否则为0，将bool型的结果转换为int型\n",
    "        correct = tf.cast(tf.equal(pred, y_test), dtype=tf.int32)\n",
    "        # 将每个batch的correct数加起来\n",
    "        correct = tf.reduce_sum(correct)\n",
    "        # 将所有batch中的correct数加起来\n",
    "        total_correct += int(correct)\n",
    "        # total_number为测试的总样本数，也就是x_test的行数，shape[0]返回变量的行数\n",
    "        total_number += x_test.shape[0]\n",
    "    # 总的准确率等于total_correct/total_number\n",
    "    acc = total_correct / total_number\n",
    "    test_acc.append(acc)\n",
    "    if epoch % 100 == 0:\n",
    "        print(\"Test_acc:\", acc)\n",
    "        print(\"--------------------------\")\n",
    "total_time = time.time() - now_time  ##3##\n",
    "print(\"total_time\", total_time)  ##4##\n",
    "\n",
    "# 绘制 loss 曲线\n",
    "plt.title('Loss Function Curve')  # 图片标题\n",
    "plt.xlabel('Epoch')  # x轴变量名称\n",
    "plt.ylabel('Loss')  # y轴变量名称\n",
    "plt.plot(train_loss_results, label=\"$Loss$\")  # 逐点画出trian_loss_results值并连线，连线图标是Loss\n",
    "plt.legend()  # 画出曲线图标\n",
    "plt.show()  # 画出图像\n",
    "\n",
    "# 绘制 Accuracy 曲线\n",
    "plt.title('Acc Curve')  # 图片标题\n",
    "plt.xlabel('Epoch')  # x轴变量名称\n",
    "plt.ylabel('Acc')  # y轴变量名称\n",
    "plt.plot(test_acc, label=\"$Accuracy$\")  # 逐点画出test_acc值并连线，连线图标是Accuracy\n",
    "plt.legend()\n",
    "plt.show()"
   ]
  },
  {
   "cell_type": "markdown",
   "id": "delayed-twist",
   "metadata": {},
   "source": [
    "### adam"
   ]
  },
  {
   "cell_type": "code",
   "execution_count": 19,
   "id": "neural-professor",
   "metadata": {},
   "outputs": [
    {
     "name": "stdout",
     "output_type": "stream",
     "text": [
      "Epoch 0, loss: 0.21984169632196426\n",
      "Test_acc: 0.5333333333333333\n",
      "--------------------------\n",
      "Epoch 100, loss: 0.01909852074459195\n",
      "Test_acc: 1.0\n",
      "--------------------------\n",
      "Epoch 200, loss: 0.01617956580594182\n",
      "Test_acc: 1.0\n",
      "--------------------------\n",
      "Epoch 300, loss: 0.014982119319029152\n",
      "Test_acc: 1.0\n",
      "--------------------------\n",
      "Epoch 400, loss: 0.014330179779790342\n",
      "Test_acc: 1.0\n",
      "--------------------------\n",
      "total_time 7.417313098907471\n"
     ]
    },
    {
     "data": {
      "image/png": "[encoded data removed]",
      "text/plain": [
       "<Figure size 432x288 with 1 Axes>"
      ]
     },
     "metadata": {
      "needs_background": "light"
     },
     "output_type": "display_data"
    },
    {
     "data": {
      "image/png": "[encoded data removed]",
      "text/plain": [
       "<Figure size 432x288 with 1 Axes>"
      ]
     },
     "metadata": {
      "needs_background": "light"
     },
     "output_type": "display_data"
    }
   ],
   "source": [
    "# 导入数据，分别为输入特征和标签\n",
    "x_data = datasets.load_iris().data\n",
    "y_data = datasets.load_iris().target\n",
    "\n",
    "# 随机打乱数据（因为原始数据是顺序的，顺序不打乱会影响准确率）\n",
    "# seed: 随机数种子，是一个整数，当设置之后，每次生成的随机数都一样（为方便教学，以保每位同学结果一致）\n",
    "np.random.seed(116)  # 使用相同的seed，保证输入特征和标签一一对应\n",
    "np.random.shuffle(x_data)\n",
    "np.random.seed(116)\n",
    "np.random.shuffle(y_data)\n",
    "tf.random.set_seed(116)\n",
    "\n",
    "# 将打乱后的数据集分割为训练集和测试集，训练集为前120行，测试集为后30行\n",
    "x_train = x_data[:-30]\n",
    "y_train = y_data[:-30]\n",
    "x_test = x_data[-30:]\n",
    "y_test = y_data[-30:]\n",
    "\n",
    "# 转换x的数据类型，否则后面矩阵相乘时会因数据类型不一致报错\n",
    "x_train = tf.cast(x_train, tf.float32)\n",
    "x_test = tf.cast(x_test, tf.float32)\n",
    "\n",
    "# from_tensor_slices函数使输入特征和标签值一一对应。（把数据集分批次，每个批次batch组数据）\n",
    "train_db = tf.data.Dataset.from_tensor_slices((x_train, y_train)).batch(32)\n",
    "test_db = tf.data.Dataset.from_tensor_slices((x_test, y_test)).batch(32)\n",
    "\n",
    "# 生成神经网络的参数，4个输入特征故，输入层为4个输入节点；因为3分类，故输出层为3个神经元\n",
    "# 用tf.Variable()标记参数可训练\n",
    "# 使用seed使每次生成的随机数相同（方便教学，使大家结果都一致，在现实使用时不写seed）\n",
    "w1 = tf.Variable(tf.random.truncated_normal([4, 3], stddev=0.1, seed=1))\n",
    "b1 = tf.Variable(tf.random.truncated_normal([3], stddev=0.1, seed=1))\n",
    "\n",
    "lr = 0.1  # 学习率为0.1\n",
    "train_loss_results = []  # 将每轮的loss记录在此列表中，为后续画loss曲线提供数据\n",
    "test_acc = []  # 将每轮的acc记录在此列表中，为后续画acc曲线提供数据\n",
    "epoch = 500  # 循环500轮\n",
    "loss_all = 0  # 每轮分4个step，loss_all记录四个step生成的4个loss的和\n",
    "##########################################################################\n",
    "m_w, m_b = 0, 0\n",
    "v_w, v_b = 0, 0\n",
    "beta1, beta2 = 0.9, 0.999\n",
    "delta_w, delta_b = 0, 0\n",
    "global_step = 0\n",
    "##########################################################################\n",
    "\n",
    "# 训练部分\n",
    "now_time = time.time()  ##2##\n",
    "for epoch in range(epoch):  # 数据集级别的循环，每个epoch循环一次数据集\n",
    "    for step, (x_train, y_train) in enumerate(train_db):  # batch级别的循环 ，每个step循环一个batch\n",
    " ##########################################################################       \n",
    "        global_step += 1\n",
    " ##########################################################################       \n",
    "        with tf.GradientTape() as tape:  # with结构记录梯度信息\n",
    "            y = tf.matmul(x_train, w1) + b1  # 神经网络乘加运算\n",
    "            y = tf.nn.softmax(y)  # 使输出y符合概率分布（此操作后与独热码同量级，可相减求loss）\n",
    "            y_ = tf.one_hot(y_train, depth=3)  # 将标签值转换为独热码格式，方便计算loss和accuracy\n",
    "            loss = tf.reduce_mean(tf.square(y_ - y))  # 采用均方误差损失函数mse = mean(sum(y-out)^2)\n",
    "            loss_all += loss.numpy()  # 将每个step计算出的loss累加，为后续求loss平均值提供数据，这样计算的loss更准确\n",
    "        # 计算loss对各个参数的梯度\n",
    "        grads = tape.gradient(loss, [w1, b1])\n",
    "\n",
    "##########################################################################\n",
    " # adam\n",
    "        m_w = beta1 * m_w + (1 - beta1) * grads[0]\n",
    "        m_b = beta1 * m_b + (1 - beta1) * grads[1]\n",
    "        v_w = beta2 * v_w + (1 - beta2) * tf.square(grads[0])\n",
    "        v_b = beta2 * v_b + (1 - beta2) * tf.square(grads[1])\n",
    "\n",
    "        m_w_correction = m_w / (1 - tf.pow(beta1, int(global_step)))\n",
    "        m_b_correction = m_b / (1 - tf.pow(beta1, int(global_step)))\n",
    "        v_w_correction = v_w / (1 - tf.pow(beta2, int(global_step)))\n",
    "        v_b_correction = v_b / (1 - tf.pow(beta2, int(global_step)))\n",
    "\n",
    "        w1.assign_sub(lr * m_w_correction / tf.sqrt(v_w_correction))\n",
    "        b1.assign_sub(lr * m_b_correction / tf.sqrt(v_b_correction))\n",
    "##########################################################################\n",
    "\n",
    "    # 每个epoch，打印loss信息\n",
    "    if epoch % 100 == 0:\n",
    "        print(\"Epoch {}, loss: {}\".format(epoch, loss_all / 4))\n",
    "    train_loss_results.append(loss_all / 4)  # 将4个step的loss求平均记录在此变量中\n",
    "    loss_all = 0  # loss_all归零，为记录下一个epoch的loss做准备\n",
    "\n",
    "    # 测试部分\n",
    "    # total_correct为预测对的样本个数, total_number为测试的总样本数，将这两个变量都初始化为0\n",
    "    total_correct, total_number = 0, 0\n",
    "\n",
    "    # 使用更新后的参数进行预测\n",
    "    y = tf.matmul(x_test, w1) + b1\n",
    "    y = tf.nn.softmax(y)\n",
    "    pred = tf.argmax(y, axis=1)  # 返回y中最大值的索引，即预测的分类\n",
    "    # 将pred转换为y_test的数据类型\n",
    "    pred = tf.cast(pred, dtype=y_test.dtype)\n",
    "    # 若分类正确，则correct=1，否则为0，将bool型的结果转换为int型\n",
    "    correct = tf.cast(tf.equal(pred, y_test), dtype=tf.int32)\n",
    "    # 将每个batch的correct数加起来\n",
    "    correct = tf.reduce_sum(correct)\n",
    "    # 将所有batch中的correct数加起来\n",
    "    total_correct += int(correct)\n",
    "    # total_number为测试的总样本数，也就是x_test的行数，shape[0]返回变量的行数\n",
    "    total_number += x_test.shape[0]\n",
    "    # 总的准确率等于total_correct/total_number\n",
    "    acc = total_correct / total_number\n",
    "    test_acc.append(acc)\n",
    "    if epoch % 100 == 0:\n",
    "        print(\"Test_acc:\", acc)\n",
    "        print(\"--------------------------\")\n",
    "total_time = time.time() - now_time  ##3##\n",
    "print(\"total_time\", total_time)  ##4##\n",
    "\n",
    "# 绘制 loss 曲线\n",
    "plt.title('Loss Function Curve')  # 图片标题\n",
    "plt.xlabel('Epoch')  # x轴变量名称\n",
    "plt.ylabel('Loss')  # y轴变量名称\n",
    "plt.plot(train_loss_results, label=\"$Loss$\")  # 逐点画出trian_loss_results值并连线，连线图标是Loss\n",
    "plt.legend()  # 画出曲线图标\n",
    "plt.show()  # 画出图像\n",
    "\n",
    "# 绘制 Accuracy 曲线\n",
    "plt.title('Acc Curve')  # 图片标题\n",
    "plt.xlabel('Epoch')  # x轴变量名称\n",
    "plt.ylabel('Acc')  # y轴变量名称\n",
    "plt.plot(test_acc, label=\"$Accuracy$\")  # 逐点画出test_acc值并连线，连线图标是Accuracy\n",
    "plt.legend()\n",
    "plt.show()"
   ]
  }
 ],
 "metadata": {
  "kernelspec": {
   "display_name": "Python 3",
   "language": "python",
   "name": "python3"
  },
  "language_info": {
   "codemirror_mode": {
    "name": "ipython",
    "version": 3
   },
   "file_extension": ".py",
   "mimetype": "text/x-python",
   "name": "python",
   "nbconvert_exporter": "python",
   "pygments_lexer": "ipython3",
   "version": "3.6.2"
  }
 },
 "nbformat": 4,
 "nbformat_minor": 5
}
