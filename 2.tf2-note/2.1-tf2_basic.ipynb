{
 "cells": [
  {
   "cell_type": "markdown",
   "id": "qualified-horror",
   "metadata": {},
   "source": [
    "# tf2_基础篇\n",
    "     上一节我们用numpy库搭建了一个较为完整的nn模型，可以发现需要自己建立所有的计算过程（【前向传播，计算成本函数，后向传播，参数更新】），我们不仅需要对各个计算量的维度仔细地处理，还有最令人头疼的后向传播我们需要考虑到了前向计算过程的中间变量的传递，这是一个非常麻烦的过程，但是在Tensorflow中，我们只需要给出前向传播方式，后向传播求梯度就能够自动计算完成，这确实让代码得到了大量的简化，在实践中，很多时候我们需要更改或者添加某种采纳数化方案只需要添加几行代码即可。xim"
   ]
  },
  {
   "cell_type": "markdown",
   "id": "documented-garage",
   "metadata": {},
   "source": [
    "   # 1、张量（Tensor）：多维数组（列表）阶：张量的维数\n",
    "    维数         阶          名字                      例子\n",
    "    0-D           0           标量scalar             s=1 2 3\n",
    "    1-D           1           向量vector             v=[1, 2, 3]\n",
    "    2-D           2           矩阵matrix             m=[[1, 2, 3], [4, 5, 6], [7, 8, 9]]\n",
    "    n-D           n            张量tensor            t=[ [ [ n个"
   ]
  },
  {
   "cell_type": "markdown",
   "id": "standing-olive",
   "metadata": {},
   "source": [
    "# 2、数据类型\n",
    "#### ——tf.int, tf.float……\n",
    "#### tf.int 32, tf.float32, tf.float64\n",
    "\n",
    "#### ——tf.bool\n",
    "#### tf.constant([True, False])\n",
    "\n",
    "#### ——tf.string\n",
    "#### tf.constant(“Hello, world!”)"
   ]
  },
  {
   "cell_type": "markdown",
   "id": "foreign-filling",
   "metadata": {},
   "source": [
    "# 3、如何创建一个Tensor\n",
    "### （1）创建一个张量\n",
    "#### tf.constant(张量内容，dtype=数据类型(可选))"
   ]
  },
  {
   "cell_type": "code",
   "execution_count": 1,
   "id": "widespread-advertiser",
   "metadata": {},
   "outputs": [
    {
     "name": "stdout",
     "output_type": "stream",
     "text": [
      "tf.Tensor([1 5], shape=(2,), dtype=int64)\n",
      "<dtype: 'int64'>\n",
      "(2,)\n"
     ]
    }
   ],
   "source": [
    "import tensorflow as tf\n",
    "a=tf.constant([1,5],dtype=tf.int64)\n",
    "print(a)\n",
    "print(a.dtype)\n",
    "print(a.shape)"
   ]
  },
  {
   "cell_type": "markdown",
   "id": "remarkable-compact",
   "metadata": {},
   "source": [
    "### （2）将numpy的数据类型转换为Tensor数据类型\n",
    "#### tf. convert_to_tensor(数据名，dtype=数据类型(可选))"
   ]
  },
  {
   "cell_type": "code",
   "execution_count": 2,
   "id": "planned-peoples",
   "metadata": {},
   "outputs": [
    {
     "name": "stdout",
     "output_type": "stream",
     "text": [
      "[0 1 2 3 4]\n",
      "tf.Tensor([0 1 2 3 4], shape=(5,), dtype=int64)\n"
     ]
    }
   ],
   "source": [
    "import tensorflow as tf\n",
    "import numpy as np\n",
    "a = np.arange(0, 5)\n",
    "b = tf.convert_to_tensor( a, dtype=tf.int64 )\n",
    "print(a)\n",
    "print(b)"
   ]
  },
  {
   "cell_type": "markdown",
   "id": "intensive-cycling",
   "metadata": {},
   "source": [
    "### （3）生成特定张量\n",
    "#### ——创建全为0的张量\n",
    "#### tf. zeros(维度)\n",
    "\n",
    "#### ——创建全为1的张量\n",
    "#### tf. ones(维度)\n",
    "\n",
    "#### ——创建全为指定值的张量\n",
    "#### tf. fill(维度，指定值)"
   ]
  },
  {
   "cell_type": "code",
   "execution_count": 3,
   "id": "given-beginning",
   "metadata": {},
   "outputs": [
    {
     "name": "stdout",
     "output_type": "stream",
     "text": [
      "tf.Tensor(\n",
      "[[0. 0. 0.]\n",
      " [0. 0. 0.]], shape=(2, 3), dtype=float32)\n",
      "tf.Tensor([1. 1. 1. 1.], shape=(4,), dtype=float32)\n",
      "tf.Tensor(\n",
      "[[9 9]\n",
      " [9 9]], shape=(2, 2), dtype=int32)\n"
     ]
    }
   ],
   "source": [
    "a = tf.zeros([2, 3])\n",
    "b = tf.ones(4)\n",
    "c = tf.fill([2, 2], 9)\n",
    "print(a)\n",
    "print(b)\n",
    "print(c)"
   ]
  },
  {
   "cell_type": "markdown",
   "id": "applied-disposal",
   "metadata": {},
   "source": [
    "### （4）生成随机数\n",
    "#### ——生成正态分布的随机数，默认均值为0，标准差为1\n",
    "#### tf. random.normal(维度，mean=均值，stddev=标准差)\n",
    "\n",
    "#### ——生成截断式正态分布的随机数\n",
    "#### tf. random.truncated_normal (维度，mean=均值，stddev=标准差)\n",
    "\n",
    "#### 在tf.truncated_normal中如果随机生成数据的取值在（μ-2σ，μ+2σ）之外则重新进行生成，保证了生成值在均值附近。"
   ]
  },
  {
   "cell_type": "code",
   "execution_count": 4,
   "id": "municipal-moscow",
   "metadata": {},
   "outputs": [
    {
     "name": "stdout",
     "output_type": "stream",
     "text": [
      "tf.Tensor(\n",
      "[[ 0.72680575  2.0119786 ]\n",
      " [-1.6012123   1.6144922 ]], shape=(2, 2), dtype=float32)\n",
      "tf.Tensor(\n",
      "[[-0.056086    0.42234188]\n",
      " [ 1.9826113  -0.71462893]], shape=(2, 2), dtype=float32)\n"
     ]
    }
   ],
   "source": [
    "d = tf.random.normal([2, 2], mean=0.5, stddev=1)\n",
    "print(d)\n",
    "e = tf.random.truncated_normal([2, 2], mean=0.5, stddev=1)\n",
    "print(e)"
   ]
  },
  {
   "cell_type": "markdown",
   "id": "independent-combine",
   "metadata": {},
   "source": [
    "# 4、常用函数\n",
    "#### （1）\n",
    "#### ——强制tensor转换为该数据类型\n",
    "#### tf.cast(张量名，dtype=数据类型)\n",
    "\n",
    "#### ——计算张量维度上元素的最小值\n",
    "#### tf.reduce_min(张量名)\n",
    "\n",
    "#### ——计算张量维度上元素的最大值\n",
    "#### tf.reduce_max(张量名)"
   ]
  },
  {
   "cell_type": "code",
   "execution_count": 5,
   "id": "technical-youth",
   "metadata": {},
   "outputs": [
    {
     "name": "stdout",
     "output_type": "stream",
     "text": [
      "tf.Tensor([1. 2. 3.], shape=(3,), dtype=float64)\n",
      "tf.Tensor([1 2 3], shape=(3,), dtype=int32)\n",
      "tf.Tensor(1, shape=(), dtype=int32) tf.Tensor(3, shape=(), dtype=int32)\n"
     ]
    }
   ],
   "source": [
    "x1 = tf.constant([1., 2., 3.],dtype=tf.float64)\n",
    "print(x1)\n",
    "x2 = tf.cast(x1, tf.int32)\n",
    "print(x2)\n",
    "print (tf.reduce_min(x2), tf.reduce_max(x2))"
   ]
  },
  {
   "cell_type": "markdown",
   "id": "advisory-point",
   "metadata": {},
   "source": [
    "### （2）\n",
    "#### 在一个二维张量或数组中，可以通过调整axis 等于0或1 控制执行维度。axis=0，代表跨行（经度，down)，而axis=1代表跨列（纬度，across)， 如果不指定axis，则所有元素参与计算。\n",
    "\n",
    "#### ——计算张量沿着指定维度的平均值\n",
    "#### tf.reduce_mean(张量名，axis=操作轴)\n",
    "\n",
    "#### ——计算张量沿着指定维度的和\n",
    "#### tf.reduce_sum(张量名，axis=操作轴)"
   ]
  },
  {
   "cell_type": "code",
   "execution_count": 6,
   "id": "related-literature",
   "metadata": {},
   "outputs": [
    {
     "name": "stdout",
     "output_type": "stream",
     "text": [
      "tf.Tensor(\n",
      "[[1 2 3]\n",
      " [2 2 3]], shape=(2, 3), dtype=int32)\n",
      "tf.Tensor(2, shape=(), dtype=int32)\n",
      "tf.Tensor([6 7], shape=(2,), dtype=int32)\n"
     ]
    }
   ],
   "source": [
    "x=tf.constant( [ [ 1, 2, 3],\n",
    "[ 2, 2, 3] ] )\n",
    "print(x)\n",
    "print(tf.reduce_mean( x ))\n",
    "print(tf.reduce_sum( x, axis=1 ))"
   ]
  },
  {
   "cell_type": "markdown",
   "id": "spread-heather",
   "metadata": {},
   "source": [
    "### （3）\n",
    "#### tf.Variable() 将变量标记为“可训练”，被标记的变量会在反向传播中记录梯度信息。神经网络训练中，常用该函数标记待训练参数。\n",
    "\n",
    "#### tf.Variable(初始值)\n",
    "#### w = tf.Variable(tf.random.normal([2, 2], mean=0, stddev=1))"
   ]
  },
  {
   "cell_type": "markdown",
   "id": "disabled-square",
   "metadata": {},
   "source": [
    "# 5、TensorFlow中的数学运算\n",
    "### 对应元素的四则运算：tf.add，tf.subtract，tf.multiply，tf.divide\n",
    "### 平方、次方与开方：tf.square，tf.pow，tf.sqrt\n",
    "### 矩阵乘：tf.matmul"
   ]
  },
  {
   "cell_type": "markdown",
   "id": "caring-india",
   "metadata": {},
   "source": [
    "### （1）\n",
    "#### ——实现两个张量的对应元素相加\n",
    "#### tf.add(张量1，张量2)\n",
    "\n",
    "#### ——实现两个张量的对应元素相减\n",
    "#### tf.subtract(张量1，张量2)\n",
    "\n",
    "#### ——实现两个张量的对应元素相乘\n",
    "#### tf.multiply(张量1，张量2)\n",
    "\n",
    "#### ——两个张量的对应元素相除\n",
    "#### tf.divide(张量1，张量2)\n",
    "\n",
    "### 注：只有维度相同的张量才可以做四则运算"
   ]
  },
  {
   "cell_type": "code",
   "execution_count": 7,
   "id": "according-stamp",
   "metadata": {},
   "outputs": [
    {
     "name": "stdout",
     "output_type": "stream",
     "text": [
      "tf.Tensor([[1. 1. 1.]], shape=(1, 3), dtype=float32)\n",
      "tf.Tensor([[3. 3. 3.]], shape=(1, 3), dtype=float32)\n",
      "tf.Tensor([[4. 4. 4.]], shape=(1, 3), dtype=float32)\n",
      "tf.Tensor([[-2. -2. -2.]], shape=(1, 3), dtype=float32)\n",
      "tf.Tensor([[3. 3. 3.]], shape=(1, 3), dtype=float32)\n",
      "tf.Tensor([[3. 3. 3.]], shape=(1, 3), dtype=float32)\n"
     ]
    }
   ],
   "source": [
    "a = tf.ones([1, 3])\n",
    "b = tf.fill([1, 3], 3.)\n",
    "print(a)\n",
    "print(b)\n",
    "print(tf.add(a,b))\n",
    "print(tf.subtract(a,b))\n",
    "print(tf.multiply(a,b))\n",
    "print(tf.divide(b,a))"
   ]
  },
  {
   "cell_type": "markdown",
   "id": "basic-sending",
   "metadata": {},
   "source": [
    "### （2）\n",
    "#### ——计算某个张量的平方\n",
    "#### tf.square(张量名)\n",
    "\n",
    "#### ——计算某个张量的n次方\n",
    "#### tf.pow(张量名，n次方数)\n",
    "\n",
    "#### ——计算某个张量的开方\n",
    "#### tf.sqrt(张量名）"
   ]
  },
  {
   "cell_type": "code",
   "execution_count": 8,
   "id": "capital-algebra",
   "metadata": {},
   "outputs": [
    {
     "name": "stdout",
     "output_type": "stream",
     "text": [
      "tf.Tensor([[3. 3.]], shape=(1, 2), dtype=float32)\n",
      "tf.Tensor([[27. 27.]], shape=(1, 2), dtype=float32)\n",
      "tf.Tensor([[9. 9.]], shape=(1, 2), dtype=float32)\n",
      "tf.Tensor([[1.7320508 1.7320508]], shape=(1, 2), dtype=float32)\n"
     ]
    }
   ],
   "source": [
    "a = tf.fill([1, 2], 3.)\n",
    "print(a)\n",
    "print(tf.pow(a, 3))\n",
    "print(tf.square(a))\n",
    "print(tf.sqrt(a))"
   ]
  },
  {
   "cell_type": "markdown",
   "id": "listed-shanghai",
   "metadata": {},
   "source": [
    "### （3）\n",
    "#### ——实现两个矩阵的相乘\n",
    "#### tf.matmul(矩阵1，矩阵2)"
   ]
  },
  {
   "cell_type": "code",
   "execution_count": 9,
   "id": "indonesian-model",
   "metadata": {},
   "outputs": [
    {
     "name": "stdout",
     "output_type": "stream",
     "text": [
      "tf.Tensor(\n",
      "[[6. 6. 6.]\n",
      " [6. 6. 6.]\n",
      " [6. 6. 6.]], shape=(3, 3), dtype=float32)\n"
     ]
    }
   ],
   "source": [
    "a = tf.ones([3, 2])\n",
    "b = tf.fill([2, 3], 3.)\n",
    "print(tf.matmul(a, b))"
   ]
  },
  {
   "cell_type": "markdown",
   "id": "widespread-imperial",
   "metadata": {},
   "source": [
    "# 6、tf.data.Dataset.from_tensor_slices\n",
    "### 切分传入张量的第一维度，生成输入特征/标签对，构建数据集data = tf.data.Dataset.from_tensor_slices((输入特征, 标签))\n",
    "### 注：（Numpy和Tensor格式都可用该语句读入数据）"
   ]
  },
  {
   "cell_type": "code",
   "execution_count": 10,
   "id": "english-springer",
   "metadata": {},
   "outputs": [
    {
     "name": "stdout",
     "output_type": "stream",
     "text": [
      "<TensorSliceDataset shapes: ((), ()), types: (tf.int32, tf.int32)>\n",
      "(<tf.Tensor: shape=(), dtype=int32, numpy=12>, <tf.Tensor: shape=(), dtype=int32, numpy=0>)\n",
      "(<tf.Tensor: shape=(), dtype=int32, numpy=23>, <tf.Tensor: shape=(), dtype=int32, numpy=1>)\n",
      "(<tf.Tensor: shape=(), dtype=int32, numpy=10>, <tf.Tensor: shape=(), dtype=int32, numpy=1>)\n",
      "(<tf.Tensor: shape=(), dtype=int32, numpy=17>, <tf.Tensor: shape=(), dtype=int32, numpy=0>)\n"
     ]
    }
   ],
   "source": [
    "features = tf.constant([12,23,10,17])\n",
    "labels = tf.constant([0, 1, 1, 0])\n",
    "dataset = tf.data.Dataset.from_tensor_slices((features, labels))\n",
    "print(dataset)\n",
    "for element in dataset:\n",
    "    print(element)"
   ]
  },
  {
   "cell_type": "markdown",
   "id": "continuing-dealing",
   "metadata": {},
   "source": [
    "# 7、tf.GradientTape\n",
    "### with结构记录计算过程，gradient求出张量的梯度\n",
    "\n",
    "#### with tf.GradientTape( ) as tape:\n",
    "            若干个计算过程\n",
    "#### grad=tape.gradient(函数，对谁求导)"
   ]
  },
  {
   "cell_type": "code",
   "execution_count": 11,
   "id": "seeing-tuning",
   "metadata": {},
   "outputs": [
    {
     "name": "stdout",
     "output_type": "stream",
     "text": [
      "tf.Tensor(6.0, shape=(), dtype=float32)\n"
     ]
    }
   ],
   "source": [
    "with tf.GradientTape( ) as tape:\n",
    "    w = tf.Variable(tf.constant(3.0))\n",
    "    loss = tf.pow(w,2) #loss=w2 loss’=2w\n",
    "grad = tape.gradient(loss,w)\n",
    "print(grad)"
   ]
  },
  {
   "cell_type": "markdown",
   "id": "material-alignment",
   "metadata": {},
   "source": [
    "# 8、enumerate\n",
    "### enumerate是python的内建函数，它可遍历每个元素(如列表、元组或字符串)，组合为：索引元素，常在for循环中使用。\n",
    "### enumerate(列表名)"
   ]
  },
  {
   "cell_type": "code",
   "execution_count": 12,
   "id": "wrapped-empire",
   "metadata": {},
   "outputs": [
    {
     "name": "stdout",
     "output_type": "stream",
     "text": [
      "0 one\n",
      "1 two\n",
      "2 three\n"
     ]
    }
   ],
   "source": [
    "seq= ['one', 'two', 'three']\n",
    "for i, element in enumerate(seq):\n",
    "    print(i, element)"
   ]
  },
  {
   "cell_type": "markdown",
   "id": "logical-breakfast",
   "metadata": {},
   "source": [
    "# 9、tf.one_hot\n",
    "### 独热编码（one-hot encoding）：在分类问题中，常用独热码做标签，标记类别：1表示是，0表示非。\n",
    "\n",
    "### （0狗尾草鸢尾  1杂色鸢尾  2弗吉尼亚鸢尾）\n",
    "### 标签： 1\n",
    "### 独热码：（0. 1.  0.）\n",
    "\n",
    "\n",
    "### tf.one_hot()函数将待转换数据，转换为one-hot形式的数据输出。\n",
    "### tf.one_hot(待转换数据, depth=几分类)"
   ]
  },
  {
   "cell_type": "code",
   "execution_count": 13,
   "id": "dimensional-cathedral",
   "metadata": {},
   "outputs": [
    {
     "name": "stdout",
     "output_type": "stream",
     "text": [
      "tf.Tensor(\n",
      "[[0. 1. 0.]\n",
      " [1. 0. 0.]\n",
      " [0. 0. 1.]], shape=(3, 3), dtype=float32)\n"
     ]
    }
   ],
   "source": [
    "classes = 3\n",
    "labels = tf.constant([1,0,2]) \n",
    "#输入的元素值最小为0，最大为2\n",
    "output = tf.one_hot( labels, depth=classes )\n",
    "print(output)"
   ]
  },
  {
   "cell_type": "markdown",
   "id": "imperial-filename",
   "metadata": {},
   "source": [
    "# 10、tf.nn.softmax\n",
    "\n",
    "### 当n分类的n个输出（y0，y1, …… yn-1）通过softmax( ) 函数，便符合概率分布了。"
   ]
  },
  {
   "cell_type": "code",
   "execution_count": 14,
   "id": "choice-gather",
   "metadata": {},
   "outputs": [
    {
     "name": "stdout",
     "output_type": "stream",
     "text": [
      "After softmax, y_prois: tf.Tensor([0.25598174 0.69583046 0.04818781], shape=(3,), dtype=float32)\n"
     ]
    }
   ],
   "source": [
    "y = tf.constant( [1.01, 2.01, -0.66] )\n",
    "y_pro= tf.nn.softmax(y)\n",
    "print(\"After softmax, y_prois:\", y_pro)"
   ]
  },
  {
   "cell_type": "markdown",
   "id": "nearby-toner",
   "metadata": {},
   "source": [
    "# 11、assign_sub\n",
    "### 赋值操作，更新参数的值并返回。\n",
    "### 调用assign_sub前，先用tf.Variable定义变量w为可训练（可自更新）\n",
    "### w.assign_sub(w要自减的内容)"
   ]
  },
  {
   "cell_type": "code",
   "execution_count": 15,
   "id": "assisted-schedule",
   "metadata": {},
   "outputs": [
    {
     "name": "stdout",
     "output_type": "stream",
     "text": [
      "<tf.Variable 'Variable:0' shape=() dtype=int32, numpy=3>\n"
     ]
    }
   ],
   "source": [
    "w = tf.Variable(4)\n",
    "w.assign_sub(1)\n",
    "print(w)"
   ]
  },
  {
   "cell_type": "markdown",
   "id": "cutting-armenia",
   "metadata": {},
   "source": [
    "# 12、tf.argmax\n",
    "### 返回张量沿指定维度最大值的索引\n",
    "### tf.argmax(张量名,axis=操作轴)"
   ]
  },
  {
   "cell_type": "code",
   "execution_count": 16,
   "id": "corporate-festival",
   "metadata": {},
   "outputs": [
    {
     "name": "stdout",
     "output_type": "stream",
     "text": [
      "[[1 2 3]\n",
      " [2 3 4]\n",
      " [5 4 3]\n",
      " [8 7 2]]\n",
      "tf.Tensor([3 3 1], shape=(3,), dtype=int64)\n",
      "tf.Tensor([2 2 0 0], shape=(4,), dtype=int64)\n"
     ]
    }
   ],
   "source": [
    "import numpy as np\n",
    "test = np.array([[1, 2, 3], [2, 3, 4], [5, 4, 3], [8, 7, 2]])\n",
    "print(test)\n",
    "print( tf.argmax(test, axis=0)) # 返回每一列（经度）最大值的索引\n",
    "print( tf.argmax(test, axis=1)) # 返回每一行（纬度）最大值的索引"
   ]
  },
  {
   "attachments": {},
   "cell_type": "markdown",
   "id": "warming-bulletin",
   "metadata": {},
   "source": [
    "# 神经网络实现鸢尾花分类\n",
    "## ——准备数据\n",
    "### •数据集读入\n",
    "### •数据集乱序\n",
    "### •生成训练集和测试集（即x_train/ y_train）\n",
    "### •配成（输入特征，标签）对，每次读入一小撮（batch）\n",
    "\n",
    "## ——搭建网络\n",
    "### •定义神经网路中所有可训练参数\n",
    "\n",
    "## ——参数优化\n",
    "### •嵌套循环迭代，with结构更新参数，显示当前loss\n",
    "\n",
    "## ——测试效果\n",
    "### •计算当前参数前向传播后的准确率，显示当前acc\n",
    "\n",
    "## ——acc / loss可视化"
   ]
  },
  {
   "cell_type": "markdown",
   "id": "regulated-rwanda",
   "metadata": {},
   "source": [
    "## 鸢尾花数据集（Iris）\n",
    "###  数据集介绍共有数据150组，每组包括花萼长、花萼宽、花瓣长、花瓣宽4个输入特征。同时给出了，这一组特征对应的鸢尾花类别。类别包括SetosaIris（狗尾草鸢尾），VersicolourIris（杂色鸢尾），VirginicaIris（弗吉尼亚鸢尾）三类，分别用数字0，1，2表示。"
   ]
  },
  {
   "cell_type": "markdown",
   "id": "painful-expense",
   "metadata": {},
   "source": [
    "### （1）读取数据\n",
    "#### 从sklearn包datasets 读入数据集，语法为：from sklearn.datasetsimport load_iris\n",
    "#### x_data= datasets.load_iris().data 返回iris数据集所有输入特征\n",
    "#### y_data= datasets.load_iris().target 返回iris数据集所有标签"
   ]
  },
  {
   "cell_type": "markdown",
   "id": "boring-capitol",
   "metadata": {},
   "source": [
    "### （2）数据集乱序\n",
    "#### np.random.seed(116) #\n",
    "#### 使用相同的seed，使输入特征/标签一一对应\n",
    "#### np.random.shuffle(x_data)\n",
    "#### np.random.seed(116)\n",
    "#### np.random.shuffle(y_data)\n",
    "#### tf.random.set_seed(116)"
   ]
  },
  {
   "cell_type": "markdown",
   "id": "statutory-blackjack",
   "metadata": {},
   "source": [
    "### （3）数据集分出永不相见的训练集和测试集\n",
    "#### x_train = x_data[:-30]\n",
    "#### y_train = y_data[:-30]\n",
    "#### x_test = x_data[-30:]\n",
    "#### y_test = y_data[-30:]"
   ]
  },
  {
   "cell_type": "markdown",
   "id": "prescription-crazy",
   "metadata": {},
   "source": [
    "### （4）配成[输入特征，标签]对，每次喂入一小撮（batch）\n",
    "#### train_db = tf.data.Dataset.from_tensor_slices((x_train, y_train)).batch(32)\n",
    "#### test_db = tf.data.Dataset.from_tensor_slices((x_test, y_test)).batch(32)"
   ]
  },
  {
   "cell_type": "markdown",
   "id": "destroyed-example",
   "metadata": {},
   "source": [
    "### （5）定义神经网路中所有可训练参数\n",
    "#### w1 = tf.Variable(tf.random.truncated_normal([ 4, 3 ], stddev=0.1, seed=1))\n",
    "#### b1 = tf.Variable(tf.random.truncated_normal([ 3 ], stddev=0.1, seed=1))"
   ]
  },
  {
   "cell_type": "markdown",
   "id": "familiar-service",
   "metadata": {},
   "source": [
    "### （6）嵌套循环迭代，with结构更新参数，显示当前loss\n",
    "    for epoch in range(epoch): #\n",
    "        数据集级别迭代\n",
    "        for step, (x_train, y_train) in enumerate(train_db): #batch级别迭代\n",
    "        with tf.GradientTape() as tape: #记录梯度信息\n",
    "            前向传播过程计算y\n",
    "            计算总loss\n",
    "        grads = tape.gradient(loss, [ w1, b1 ])\n",
    "        w1.assign_sub(lr * grads[0]) #参数自更新\n",
    "        b1.assign_sub(lr * grads[1])\n",
    "    print(\"Epoch {}, loss: {}\".format(epoch, loss_all/4))"
   ]
  },
  {
   "cell_type": "markdown",
   "id": "natural-anniversary",
   "metadata": {},
   "source": [
    "### （7）计算当前参数前向传播后的准确率，显示当前acc\n",
    "    for x_test, y_test in test_db:\n",
    "        y = tf.matmul(h, w) + b # y为预测结果\n",
    "        y = tf.nn.softmax(y) # y符合概率分布\n",
    "        pred = tf.argmax(y, axis=1) #返回y中最大值的索引，即预测的分类\n",
    "        pred = tf.cast(pred, dtype=y_test.dtype) #调整数据类型与标签一致\n",
    "        correct = tf.cast(tf.equal(pred, y_test), dtype=tf.int32)\n",
    "        correct = tf.reduce_sum (correct) #将每个batch的correct数加起来\n",
    "        total_correct += int (correct) #将所有batch中的correct数加起来\n",
    "        total_number+= x_test.shape[0]\n",
    "    acc = total_correct / total_number\n",
    "    print(\"test_acc:\", acc)"
   ]
  },
  {
   "cell_type": "markdown",
   "id": "related-density",
   "metadata": {},
   "source": [
    "### （8）acc / loss可视化\n",
    "    plt.title('Acc Curve') #\n",
    "    图片标题\n",
    "    plt.xlabel('Epoch') # x\n",
    "    轴名称\n",
    "    plt.ylabel('Acc') # y\n",
    "    轴名称\n",
    "    plt.plot(test_acc, label=\"$Accuracy$\") #\n",
    "    逐点画出test_acc值并连线\n",
    "    plt.legend()\n",
    "    plt.show()"
   ]
  },
  {
   "cell_type": "markdown",
   "id": "continent-castle",
   "metadata": {},
   "source": [
    "### （9）总体运行效果"
   ]
  },
  {
   "cell_type": "code",
   "execution_count": 17,
   "id": "prime-leadership",
   "metadata": {},
   "outputs": [
    {
     "name": "stdout",
     "output_type": "stream",
     "text": [
      "Epoch 0, loss: 0.2821310982108116\n",
      "Test_acc: 0.16666666666666666\n",
      "--------------------------\n",
      "Epoch 100, loss: 0.06943229492753744\n",
      "Test_acc: 0.8666666666666667\n",
      "--------------------------\n",
      "Epoch 200, loss: 0.049290805123746395\n",
      "Test_acc: 1.0\n",
      "--------------------------\n",
      "Epoch 300, loss: 0.04036971088498831\n",
      "Test_acc: 1.0\n",
      "--------------------------\n",
      "Epoch 400, loss: 0.03542578825727105\n",
      "Test_acc: 1.0\n",
      "--------------------------\n"
     ]
    },
    {
     "data": {
      "image/png": "[encoded data removed]",
      "text/plain": [
       "<Figure size 432x288 with 1 Axes>"
      ]
     },
     "metadata": {
      "needs_background": "light"
     },
     "output_type": "display_data"
    },
    {
     "data": {
      "image/png": "[encoded data removed]",
      "text/plain": [
       "<Figure size 432x288 with 1 Axes>"
      ]
     },
     "metadata": {
      "needs_background": "light"
     },
     "output_type": "display_data"
    }
   ],
   "source": [
    "# -*- coding: UTF-8 -*-\n",
    "# 利用鸢尾花数据集，实现前向传播、反向传播，可视化loss曲线\n",
    "\n",
    "# 导入所需模块\n",
    "import tensorflow as tf\n",
    "from sklearn import datasets\n",
    "from matplotlib import pyplot as plt\n",
    "import numpy as np\n",
    "\n",
    "# 导入数据，分别为输入特征和标签\n",
    "x_data = datasets.load_iris().data\n",
    "y_data = datasets.load_iris().target\n",
    "\n",
    "# 随机打乱数据（因为原始数据是顺序的，顺序不打乱会影响准确率）\n",
    "# seed: 随机数种子，是一个整数，当设置之后，每次生成的随机数都一样（为方便教学，以保每位同学结果一致）\n",
    "np.random.seed(116)  # 使用相同的seed，保证输入特征和标签一一对应\n",
    "np.random.shuffle(x_data)\n",
    "np.random.seed(116)\n",
    "np.random.shuffle(y_data)\n",
    "tf.random.set_seed(116)\n",
    "\n",
    "# 将打乱后的数据集分割为训练集和测试集，训练集为前120行，测试集为后30行\n",
    "x_train = x_data[:-30]\n",
    "y_train = y_data[:-30]\n",
    "x_test = x_data[-30:]\n",
    "y_test = y_data[-30:]\n",
    "\n",
    "# 转换x的数据类型，否则后面矩阵相乘时会因数据类型不一致报错\n",
    "x_train = tf.cast(x_train, tf.float32)\n",
    "x_test = tf.cast(x_test, tf.float32)\n",
    "\n",
    "# from_tensor_slices函数使输入特征和标签值一一对应。（把数据集分批次，每个批次batch组数据）\n",
    "train_db = tf.data.Dataset.from_tensor_slices((x_train, y_train)).batch(32)\n",
    "test_db = tf.data.Dataset.from_tensor_slices((x_test, y_test)).batch(32)\n",
    "\n",
    "# 生成神经网络的参数，4个输入特征故，输入层为4个输入节点；因为3分类，故输出层为3个神经元\n",
    "# 用tf.Variable()标记参数可训练\n",
    "# 使用seed使每次生成的随机数相同（方便教学，使大家结果都一致，在现实使用时不写seed）\n",
    "w1 = tf.Variable(tf.random.truncated_normal([4, 3], stddev=0.1, seed=1))\n",
    "b1 = tf.Variable(tf.random.truncated_normal([3], stddev=0.1, seed=1))\n",
    "\n",
    "lr = 0.1  # 学习率为0.1\n",
    "train_loss_results = []  # 将每轮的loss记录在此列表中，为后续画loss曲线提供数据\n",
    "test_acc = []  # 将每轮的acc记录在此列表中，为后续画acc曲线提供数据\n",
    "epoch = 500  # 循环500轮\n",
    "loss_all = 0  # 每轮分4个step，loss_all记录四个step生成的4个loss的和\n",
    "\n",
    "# 训练部分\n",
    "for epoch in range(epoch):  #数据集级别的循环，每个epoch循环一次数据集\n",
    "    for step, (x_train, y_train) in enumerate(train_db):  #batch级别的循环 ，每个step循环一个batch\n",
    "        with tf.GradientTape() as tape:  # with结构记录梯度信息\n",
    "            y = tf.matmul(x_train, w1) + b1  # 神经网络乘加运算\n",
    "            y = tf.nn.softmax(y)  # 使输出y符合概率分布（此操作后与独热码同量级，可相减求loss）\n",
    "            y_ = tf.one_hot(y_train, depth=3)  # 将标签值转换为独热码格式，方便计算loss和accuracy\n",
    "            loss = tf.reduce_mean(tf.square(y_ - y))  # 采用均方误差损失函数mse = mean(sum(y-out)^2)\n",
    "            loss_all += loss.numpy()  # 将每个step计算出的loss累加，为后续求loss平均值提供数据，这样计算的loss更准确\n",
    "        # 计算loss对各个参数的梯度\n",
    "        grads = tape.gradient(loss, [w1, b1])\n",
    "\n",
    "        # 实现梯度更新 w1 = w1 - lr * w1_grad    b = b - lr * b_grad\n",
    "        w1.assign_sub(lr * grads[0])  # 参数w1自更新\n",
    "        b1.assign_sub(lr * grads[1])  # 参数b自更新\n",
    "\n",
    "    # 每个epoch，打印loss信息\n",
    "    if epoch % 100 == 0:\n",
    "        print(\"Epoch {}, loss: {}\".format(epoch, loss_all/4))\n",
    "    train_loss_results.append(loss_all / 4)  # 将4个step的loss求平均记录在此变量中\n",
    "    loss_all = 0  # loss_all归零，为记录下一个epoch的loss做准备\n",
    "\n",
    "    # 测试部分\n",
    "    # total_correct为预测对的样本个数, total_number为测试的总样本数，将这两个变量都初始化为0\n",
    "    total_correct, total_number = 0, 0\n",
    "    for x_test, y_test in test_db:\n",
    "        # 使用更新后的参数进行预测\n",
    "        y = tf.matmul(x_test, w1) + b1\n",
    "        y = tf.nn.softmax(y)\n",
    "        pred = tf.argmax(y, axis=1)  # 返回y中最大值的索引，即预测的分类\n",
    "        # 将pred转换为y_test的数据类型\n",
    "        pred = tf.cast(pred, dtype=y_test.dtype)\n",
    "        # 若分类正确，则correct=1，否则为0，将bool型的结果转换为int型\n",
    "        correct = tf.cast(tf.equal(pred, y_test), dtype=tf.int32)\n",
    "        # 将每个batch的correct数加起来\n",
    "        correct = tf.reduce_sum(correct)\n",
    "        # 将所有batch中的correct数加起来\n",
    "        total_correct += int(correct)\n",
    "        # total_number为测试的总样本数，也就是x_test的行数，shape[0]返回变量的行数\n",
    "        total_number += x_test.shape[0]\n",
    "    # 总的准确率等于total_correct/total_number\n",
    "    acc = total_correct / total_number\n",
    "    test_acc.append(acc)\n",
    "    if epoch % 100 == 0:\n",
    "        print(\"Test_acc:\", acc)\n",
    "        print(\"--------------------------\")\n",
    "\n",
    "# 绘制 loss 曲线\n",
    "plt.title('Loss Function Curve')  # 图片标题\n",
    "plt.xlabel('Epoch')  # x轴变量名称\n",
    "plt.ylabel('Loss')  # y轴变量名称\n",
    "plt.plot(train_loss_results, label=\"$Loss$\")  # 逐点画出trian_loss_results值并连线，连线图标是Loss\n",
    "plt.legend()  # 画出曲线图标\n",
    "plt.show()  # 画出图像\n",
    "\n",
    "# 绘制 Accuracy 曲线\n",
    "plt.title('Acc Curve')  # 图片标题\n",
    "plt.xlabel('Epoch')  # x轴变量名称\n",
    "plt.ylabel('Acc')  # y轴变量名称\n",
    "plt.plot(test_acc, label=\"$Accuracy$\")  # 逐点画出test_acc值并连线，连线图标是Accuracy\n",
    "plt.legend()\n",
    "plt.show()"
   ]
  }
 ],
 "metadata": {
  "kernelspec": {
   "display_name": "Python 3",
   "language": "python",
   "name": "python3"
  },
  "language_info": {
   "codemirror_mode": {
    "name": "ipython",
    "version": 3
   },
   "file_extension": ".py",
   "mimetype": "text/x-python",
   "name": "python",
   "nbconvert_exporter": "python",
   "pygments_lexer": "ipython3",
   "version": "3.6.2"
  }
 },
 "nbformat": 4,
 "nbformat_minor": 5
}
